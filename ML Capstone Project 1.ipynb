{
 "cells": [
  {
   "cell_type": "markdown",
   "id": "bafb0c2c",
   "metadata": {},
   "source": [
    "# Q1 : Create a scatter plot between cylinder vs Co2Emission (green color)"
   ]
  },
  {
   "cell_type": "code",
   "execution_count": 1,
   "id": "5dfe853e",
   "metadata": {},
   "outputs": [],
   "source": [
    "import numpy as np \n",
    "                 \n",
    "import pandas as pd \n",
    "import matplotlib.pyplot as plt "
   ]
  },
  {
   "cell_type": "code",
   "execution_count": 2,
   "id": "48707b13",
   "metadata": {},
   "outputs": [
    {
     "data": {
      "text/html": [
       "<div>\n",
       "<style scoped>\n",
       "    .dataframe tbody tr th:only-of-type {\n",
       "        vertical-align: middle;\n",
       "    }\n",
       "\n",
       "    .dataframe tbody tr th {\n",
       "        vertical-align: top;\n",
       "    }\n",
       "\n",
       "    .dataframe thead th {\n",
       "        text-align: right;\n",
       "    }\n",
       "</style>\n",
       "<table border=\"1\" class=\"dataframe\">\n",
       "  <thead>\n",
       "    <tr style=\"text-align: right;\">\n",
       "      <th></th>\n",
       "      <th>MODELYEAR</th>\n",
       "      <th>MAKE</th>\n",
       "      <th>MODEL</th>\n",
       "      <th>VEHICLECLASS</th>\n",
       "      <th>ENGINESIZE</th>\n",
       "      <th>CYLINDERS</th>\n",
       "      <th>TRANSMISSION</th>\n",
       "      <th>FUELTYPE</th>\n",
       "      <th>FUELCONSUMPTION_CITY</th>\n",
       "      <th>FUELCONSUMPTION_HWY</th>\n",
       "      <th>FUELCONSUMPTION_COMB</th>\n",
       "      <th>FUELCONSUMPTION_COMB_MPG</th>\n",
       "      <th>CO2EMISSIONS</th>\n",
       "    </tr>\n",
       "  </thead>\n",
       "  <tbody>\n",
       "    <tr>\n",
       "      <th>0</th>\n",
       "      <td>2014</td>\n",
       "      <td>ACURA</td>\n",
       "      <td>ILX</td>\n",
       "      <td>COMPACT</td>\n",
       "      <td>2.0</td>\n",
       "      <td>4</td>\n",
       "      <td>AS5</td>\n",
       "      <td>Z</td>\n",
       "      <td>9.9</td>\n",
       "      <td>6.7</td>\n",
       "      <td>8.5</td>\n",
       "      <td>33</td>\n",
       "      <td>196</td>\n",
       "    </tr>\n",
       "    <tr>\n",
       "      <th>1</th>\n",
       "      <td>2014</td>\n",
       "      <td>ACURA</td>\n",
       "      <td>ILX</td>\n",
       "      <td>COMPACT</td>\n",
       "      <td>2.4</td>\n",
       "      <td>4</td>\n",
       "      <td>M6</td>\n",
       "      <td>Z</td>\n",
       "      <td>11.2</td>\n",
       "      <td>7.7</td>\n",
       "      <td>9.6</td>\n",
       "      <td>29</td>\n",
       "      <td>221</td>\n",
       "    </tr>\n",
       "    <tr>\n",
       "      <th>2</th>\n",
       "      <td>2014</td>\n",
       "      <td>ACURA</td>\n",
       "      <td>ILX HYBRID</td>\n",
       "      <td>COMPACT</td>\n",
       "      <td>1.5</td>\n",
       "      <td>4</td>\n",
       "      <td>AV7</td>\n",
       "      <td>Z</td>\n",
       "      <td>6.0</td>\n",
       "      <td>5.8</td>\n",
       "      <td>5.9</td>\n",
       "      <td>48</td>\n",
       "      <td>136</td>\n",
       "    </tr>\n",
       "    <tr>\n",
       "      <th>3</th>\n",
       "      <td>2014</td>\n",
       "      <td>ACURA</td>\n",
       "      <td>MDX 4WD</td>\n",
       "      <td>SUV - SMALL</td>\n",
       "      <td>3.5</td>\n",
       "      <td>6</td>\n",
       "      <td>AS6</td>\n",
       "      <td>Z</td>\n",
       "      <td>12.7</td>\n",
       "      <td>9.1</td>\n",
       "      <td>11.1</td>\n",
       "      <td>25</td>\n",
       "      <td>255</td>\n",
       "    </tr>\n",
       "    <tr>\n",
       "      <th>4</th>\n",
       "      <td>2014</td>\n",
       "      <td>ACURA</td>\n",
       "      <td>RDX AWD</td>\n",
       "      <td>SUV - SMALL</td>\n",
       "      <td>3.5</td>\n",
       "      <td>6</td>\n",
       "      <td>AS6</td>\n",
       "      <td>Z</td>\n",
       "      <td>12.1</td>\n",
       "      <td>8.7</td>\n",
       "      <td>10.6</td>\n",
       "      <td>27</td>\n",
       "      <td>244</td>\n",
       "    </tr>\n",
       "  </tbody>\n",
       "</table>\n",
       "</div>"
      ],
      "text/plain": [
       "   MODELYEAR   MAKE       MODEL VEHICLECLASS  ENGINESIZE  CYLINDERS  \\\n",
       "0       2014  ACURA         ILX      COMPACT         2.0          4   \n",
       "1       2014  ACURA         ILX      COMPACT         2.4          4   \n",
       "2       2014  ACURA  ILX HYBRID      COMPACT         1.5          4   \n",
       "3       2014  ACURA     MDX 4WD  SUV - SMALL         3.5          6   \n",
       "4       2014  ACURA     RDX AWD  SUV - SMALL         3.5          6   \n",
       "\n",
       "  TRANSMISSION FUELTYPE  FUELCONSUMPTION_CITY  FUELCONSUMPTION_HWY  \\\n",
       "0          AS5        Z                   9.9                  6.7   \n",
       "1           M6        Z                  11.2                  7.7   \n",
       "2          AV7        Z                   6.0                  5.8   \n",
       "3          AS6        Z                  12.7                  9.1   \n",
       "4          AS6        Z                  12.1                  8.7   \n",
       "\n",
       "   FUELCONSUMPTION_COMB  FUELCONSUMPTION_COMB_MPG  CO2EMISSIONS  \n",
       "0                   8.5                        33           196  \n",
       "1                   9.6                        29           221  \n",
       "2                   5.9                        48           136  \n",
       "3                  11.1                        25           255  \n",
       "4                  10.6                        27           244  "
      ]
     },
     "execution_count": 2,
     "metadata": {},
     "output_type": "execute_result"
    }
   ],
   "source": [
    "df = pd.read_csv(\"C:/Users/Rushi Patil/Desktop/Inside AI & ML/Machine learning/FuelConsumption.csv\")\n",
    "df.head()"
   ]
  },
  {
   "cell_type": "code",
   "execution_count": 3,
   "id": "4259a4c1",
   "metadata": {},
   "outputs": [
    {
     "data": {
      "text/html": [
       "<div>\n",
       "<style scoped>\n",
       "    .dataframe tbody tr th:only-of-type {\n",
       "        vertical-align: middle;\n",
       "    }\n",
       "\n",
       "    .dataframe tbody tr th {\n",
       "        vertical-align: top;\n",
       "    }\n",
       "\n",
       "    .dataframe thead th {\n",
       "        text-align: right;\n",
       "    }\n",
       "</style>\n",
       "<table border=\"1\" class=\"dataframe\">\n",
       "  <thead>\n",
       "    <tr style=\"text-align: right;\">\n",
       "      <th></th>\n",
       "      <th>ENGINESIZE</th>\n",
       "      <th>CYLINDERS</th>\n",
       "      <th>FUELCONSUMPTION_COMB</th>\n",
       "      <th>CO2EMISSIONS</th>\n",
       "    </tr>\n",
       "  </thead>\n",
       "  <tbody>\n",
       "    <tr>\n",
       "      <th>0</th>\n",
       "      <td>2.0</td>\n",
       "      <td>4</td>\n",
       "      <td>8.5</td>\n",
       "      <td>196</td>\n",
       "    </tr>\n",
       "    <tr>\n",
       "      <th>1</th>\n",
       "      <td>2.4</td>\n",
       "      <td>4</td>\n",
       "      <td>9.6</td>\n",
       "      <td>221</td>\n",
       "    </tr>\n",
       "    <tr>\n",
       "      <th>2</th>\n",
       "      <td>1.5</td>\n",
       "      <td>4</td>\n",
       "      <td>5.9</td>\n",
       "      <td>136</td>\n",
       "    </tr>\n",
       "    <tr>\n",
       "      <th>3</th>\n",
       "      <td>3.5</td>\n",
       "      <td>6</td>\n",
       "      <td>11.1</td>\n",
       "      <td>255</td>\n",
       "    </tr>\n",
       "    <tr>\n",
       "      <th>4</th>\n",
       "      <td>3.5</td>\n",
       "      <td>6</td>\n",
       "      <td>10.6</td>\n",
       "      <td>244</td>\n",
       "    </tr>\n",
       "    <tr>\n",
       "      <th>...</th>\n",
       "      <td>...</td>\n",
       "      <td>...</td>\n",
       "      <td>...</td>\n",
       "      <td>...</td>\n",
       "    </tr>\n",
       "    <tr>\n",
       "      <th>1062</th>\n",
       "      <td>3.0</td>\n",
       "      <td>6</td>\n",
       "      <td>11.8</td>\n",
       "      <td>271</td>\n",
       "    </tr>\n",
       "    <tr>\n",
       "      <th>1063</th>\n",
       "      <td>3.2</td>\n",
       "      <td>6</td>\n",
       "      <td>11.5</td>\n",
       "      <td>264</td>\n",
       "    </tr>\n",
       "    <tr>\n",
       "      <th>1064</th>\n",
       "      <td>3.0</td>\n",
       "      <td>6</td>\n",
       "      <td>11.8</td>\n",
       "      <td>271</td>\n",
       "    </tr>\n",
       "    <tr>\n",
       "      <th>1065</th>\n",
       "      <td>3.2</td>\n",
       "      <td>6</td>\n",
       "      <td>11.3</td>\n",
       "      <td>260</td>\n",
       "    </tr>\n",
       "    <tr>\n",
       "      <th>1066</th>\n",
       "      <td>3.2</td>\n",
       "      <td>6</td>\n",
       "      <td>12.8</td>\n",
       "      <td>294</td>\n",
       "    </tr>\n",
       "  </tbody>\n",
       "</table>\n",
       "<p>1067 rows × 4 columns</p>\n",
       "</div>"
      ],
      "text/plain": [
       "      ENGINESIZE  CYLINDERS  FUELCONSUMPTION_COMB  CO2EMISSIONS\n",
       "0            2.0          4                   8.5           196\n",
       "1            2.4          4                   9.6           221\n",
       "2            1.5          4                   5.9           136\n",
       "3            3.5          6                  11.1           255\n",
       "4            3.5          6                  10.6           244\n",
       "...          ...        ...                   ...           ...\n",
       "1062         3.0          6                  11.8           271\n",
       "1063         3.2          6                  11.5           264\n",
       "1064         3.0          6                  11.8           271\n",
       "1065         3.2          6                  11.3           260\n",
       "1066         3.2          6                  12.8           294\n",
       "\n",
       "[1067 rows x 4 columns]"
      ]
     },
     "execution_count": 3,
     "metadata": {},
     "output_type": "execute_result"
    }
   ],
   "source": [
    "cdf = df[['ENGINESIZE','CYLINDERS','FUELCONSUMPTION_COMB','CO2EMISSIONS']] \n",
    "cdf"
   ]
  },
  {
   "cell_type": "code",
   "execution_count": 4,
   "id": "cb1c5d97",
   "metadata": {},
   "outputs": [
    {
     "data": {
      "image/png": "[encoded data removed]",
      "text/plain": [
       "<Figure size 432x288 with 1 Axes>"
      ]
     },
     "metadata": {
      "needs_background": "light"
     },
     "output_type": "display_data"
    }
   ],
   "source": [
    "plt.scatter(cdf.CYLINDERS, cdf.CO2EMISSIONS,  color='Green')\n",
    "plt.xlabel('Fuel_Consump_Comb--->')\n",
    "plt.ylabel(\"Co2_Emission\")\n",
    "plt.show()"
   ]
  },
  {
   "cell_type": "code",
   "execution_count": null,
   "id": "90a8913d",
   "metadata": {},
   "outputs": [],
   "source": []
  },
  {
   "cell_type": "markdown",
   "id": "24309ea6",
   "metadata": {},
   "source": [
    "# Q2 : using scatter plot compare data cylinder vs Co2Emission and Enginesize Vs Co2Emission using different colors"
   ]
  },
  {
   "cell_type": "code",
   "execution_count": 5,
   "id": "4aa4dde2",
   "metadata": {},
   "outputs": [
    {
     "data": {
      "text/plain": [
       "<matplotlib.legend.Legend at 0x2196b5397c0>"
      ]
     },
     "execution_count": 5,
     "metadata": {},
     "output_type": "execute_result"
    },
    {
     "data": {
      "image/png": "[encoded data removed]",
      "text/plain": [
       "<Figure size 432x288 with 1 Axes>"
      ]
     },
     "metadata": {
      "needs_background": "light"
     },
     "output_type": "display_data"
    }
   ],
   "source": [
    "plt.scatter(cdf.CYLINDERS, cdf.CO2EMISSIONS, c=\"red\", label=\"Cylinder\")\n",
    "plt.scatter(cdf.ENGINESIZE, cdf.CO2EMISSIONS , c=\"blue\", label=\"Engine Size\")\n",
    "\n",
    "\n",
    "plt.xlabel(\"Cylinder and Engine Size\")\n",
    "plt.ylabel(\"CO2 Emission\")\n",
    "plt.legend()\n"
   ]
  },
  {
   "cell_type": "markdown",
   "id": "4d78467f",
   "metadata": {},
   "source": [
    "# Q3 : using scatter plot compare data cylinder vs Co2Emission and Enginesize Vs Co2Emission and FuelConsumption_comb Co2Emission using different colors"
   ]
  },
  {
   "cell_type": "code",
   "execution_count": 6,
   "id": "de4642de",
   "metadata": {},
   "outputs": [
    {
     "data": {
      "image/png": "[encoded data removed]",
      "text/plain": [
       "<Figure size 432x288 with 1 Axes>"
      ]
     },
     "metadata": {
      "needs_background": "light"
     },
     "output_type": "display_data"
    }
   ],
   "source": [
    "plt.scatter(cdf.CYLINDERS, cdf.CO2EMISSIONS, c=\"red\", label=\"Cylinder\")\n",
    "plt.scatter(cdf.ENGINESIZE, cdf.CO2EMISSIONS, c=\"blue\", label=\"Engine Size\")\n",
    "plt.scatter(cdf.FUELCONSUMPTION_COMB , cdf.CO2EMISSIONS, c=\"green\", label=\"Fuel Consumption\")\n",
    "\n",
    "\n",
    "plt.xlabel(\"Cylinder, Engine Size, and Fuel Consumption\")\n",
    "plt.ylabel(\"CO2 Emission\")\n",
    "plt.legend()\n",
    "\n",
    "\n",
    "plt.show()"
   ]
  },
  {
   "cell_type": "markdown",
   "id": "22a4957b",
   "metadata": {},
   "source": [
    "# Q4 : train your model with indepedent variable as cylinder and dependent variable as Co2Emission"
   ]
  },
  {
   "cell_type": "code",
   "execution_count": 7,
   "id": "154702de",
   "metadata": {},
   "outputs": [],
   "source": [
    "cdf1 = df[['CYLINDERS','CO2EMISSIONS']] "
   ]
  },
  {
   "cell_type": "code",
   "execution_count": 8,
   "id": "eab735dd",
   "metadata": {},
   "outputs": [
    {
     "data": {
      "text/html": [
       "<div>\n",
       "<style scoped>\n",
       "    .dataframe tbody tr th:only-of-type {\n",
       "        vertical-align: middle;\n",
       "    }\n",
       "\n",
       "    .dataframe tbody tr th {\n",
       "        vertical-align: top;\n",
       "    }\n",
       "\n",
       "    .dataframe thead th {\n",
       "        text-align: right;\n",
       "    }\n",
       "</style>\n",
       "<table border=\"1\" class=\"dataframe\">\n",
       "  <thead>\n",
       "    <tr style=\"text-align: right;\">\n",
       "      <th></th>\n",
       "      <th>CYLINDERS</th>\n",
       "      <th>CO2EMISSIONS</th>\n",
       "    </tr>\n",
       "  </thead>\n",
       "  <tbody>\n",
       "    <tr>\n",
       "      <th>0</th>\n",
       "      <td>4</td>\n",
       "      <td>196</td>\n",
       "    </tr>\n",
       "    <tr>\n",
       "      <th>1</th>\n",
       "      <td>4</td>\n",
       "      <td>221</td>\n",
       "    </tr>\n",
       "    <tr>\n",
       "      <th>2</th>\n",
       "      <td>4</td>\n",
       "      <td>136</td>\n",
       "    </tr>\n",
       "    <tr>\n",
       "      <th>3</th>\n",
       "      <td>6</td>\n",
       "      <td>255</td>\n",
       "    </tr>\n",
       "    <tr>\n",
       "      <th>4</th>\n",
       "      <td>6</td>\n",
       "      <td>244</td>\n",
       "    </tr>\n",
       "    <tr>\n",
       "      <th>...</th>\n",
       "      <td>...</td>\n",
       "      <td>...</td>\n",
       "    </tr>\n",
       "    <tr>\n",
       "      <th>1062</th>\n",
       "      <td>6</td>\n",
       "      <td>271</td>\n",
       "    </tr>\n",
       "    <tr>\n",
       "      <th>1063</th>\n",
       "      <td>6</td>\n",
       "      <td>264</td>\n",
       "    </tr>\n",
       "    <tr>\n",
       "      <th>1064</th>\n",
       "      <td>6</td>\n",
       "      <td>271</td>\n",
       "    </tr>\n",
       "    <tr>\n",
       "      <th>1065</th>\n",
       "      <td>6</td>\n",
       "      <td>260</td>\n",
       "    </tr>\n",
       "    <tr>\n",
       "      <th>1066</th>\n",
       "      <td>6</td>\n",
       "      <td>294</td>\n",
       "    </tr>\n",
       "  </tbody>\n",
       "</table>\n",
       "<p>1067 rows × 2 columns</p>\n",
       "</div>"
      ],
      "text/plain": [
       "      CYLINDERS  CO2EMISSIONS\n",
       "0             4           196\n",
       "1             4           221\n",
       "2             4           136\n",
       "3             6           255\n",
       "4             6           244\n",
       "...         ...           ...\n",
       "1062          6           271\n",
       "1063          6           264\n",
       "1064          6           271\n",
       "1065          6           260\n",
       "1066          6           294\n",
       "\n",
       "[1067 rows x 2 columns]"
      ]
     },
     "execution_count": 8,
     "metadata": {},
     "output_type": "execute_result"
    }
   ],
   "source": [
    "cdf1"
   ]
  },
  {
   "cell_type": "code",
   "execution_count": 9,
   "id": "a674beb0",
   "metadata": {},
   "outputs": [],
   "source": [
    "msk = np.random.rand(len(cdf1))  <= 0.80"
   ]
  },
  {
   "cell_type": "code",
   "execution_count": 10,
   "id": "4ae5180a",
   "metadata": {},
   "outputs": [
    {
     "data": {
      "text/plain": [
       "array([ True,  True,  True, ...,  True,  True,  True])"
      ]
     },
     "execution_count": 10,
     "metadata": {},
     "output_type": "execute_result"
    }
   ],
   "source": [
    "msk  "
   ]
  },
  {
   "cell_type": "code",
   "execution_count": 11,
   "id": "32168170",
   "metadata": {},
   "outputs": [],
   "source": [
    "train = cdf1[msk]"
   ]
  },
  {
   "cell_type": "code",
   "execution_count": 12,
   "id": "9d3fe363",
   "metadata": {},
   "outputs": [],
   "source": [
    "test = cdf1[~msk]\n"
   ]
  },
  {
   "cell_type": "code",
   "execution_count": 13,
   "id": "3d2da04b",
   "metadata": {},
   "outputs": [
    {
     "data": {
      "text/plain": [
       "(845, 2)"
      ]
     },
     "execution_count": 13,
     "metadata": {},
     "output_type": "execute_result"
    }
   ],
   "source": [
    "train.shape"
   ]
  },
  {
   "cell_type": "code",
   "execution_count": 14,
   "id": "94866053",
   "metadata": {},
   "outputs": [
    {
     "data": {
      "text/plain": [
       "(222, 2)"
      ]
     },
     "execution_count": 14,
     "metadata": {},
     "output_type": "execute_result"
    }
   ],
   "source": [
    "test.shape"
   ]
  },
  {
   "cell_type": "code",
   "execution_count": 15,
   "id": "755e2c25",
   "metadata": {},
   "outputs": [
    {
     "data": {
      "text/html": [
       "<div>\n",
       "<style scoped>\n",
       "    .dataframe tbody tr th:only-of-type {\n",
       "        vertical-align: middle;\n",
       "    }\n",
       "\n",
       "    .dataframe tbody tr th {\n",
       "        vertical-align: top;\n",
       "    }\n",
       "\n",
       "    .dataframe thead th {\n",
       "        text-align: right;\n",
       "    }\n",
       "</style>\n",
       "<table border=\"1\" class=\"dataframe\">\n",
       "  <thead>\n",
       "    <tr style=\"text-align: right;\">\n",
       "      <th></th>\n",
       "      <th>CYLINDERS</th>\n",
       "    </tr>\n",
       "  </thead>\n",
       "  <tbody>\n",
       "    <tr>\n",
       "      <th>0</th>\n",
       "      <td>4</td>\n",
       "    </tr>\n",
       "    <tr>\n",
       "      <th>1</th>\n",
       "      <td>4</td>\n",
       "    </tr>\n",
       "    <tr>\n",
       "      <th>2</th>\n",
       "      <td>4</td>\n",
       "    </tr>\n",
       "    <tr>\n",
       "      <th>3</th>\n",
       "      <td>6</td>\n",
       "    </tr>\n",
       "    <tr>\n",
       "      <th>4</th>\n",
       "      <td>6</td>\n",
       "    </tr>\n",
       "    <tr>\n",
       "      <th>...</th>\n",
       "      <td>...</td>\n",
       "    </tr>\n",
       "    <tr>\n",
       "      <th>1061</th>\n",
       "      <td>6</td>\n",
       "    </tr>\n",
       "    <tr>\n",
       "      <th>1063</th>\n",
       "      <td>6</td>\n",
       "    </tr>\n",
       "    <tr>\n",
       "      <th>1064</th>\n",
       "      <td>6</td>\n",
       "    </tr>\n",
       "    <tr>\n",
       "      <th>1065</th>\n",
       "      <td>6</td>\n",
       "    </tr>\n",
       "    <tr>\n",
       "      <th>1066</th>\n",
       "      <td>6</td>\n",
       "    </tr>\n",
       "  </tbody>\n",
       "</table>\n",
       "<p>845 rows × 1 columns</p>\n",
       "</div>"
      ],
      "text/plain": [
       "      CYLINDERS\n",
       "0             4\n",
       "1             4\n",
       "2             4\n",
       "3             6\n",
       "4             6\n",
       "...         ...\n",
       "1061          6\n",
       "1063          6\n",
       "1064          6\n",
       "1065          6\n",
       "1066          6\n",
       "\n",
       "[845 rows x 1 columns]"
      ]
     },
     "execution_count": 15,
     "metadata": {},
     "output_type": "execute_result"
    }
   ],
   "source": [
    "train[['CYLINDERS']]"
   ]
  },
  {
   "cell_type": "code",
   "execution_count": 16,
   "id": "0ef1c38a",
   "metadata": {},
   "outputs": [],
   "source": [
    "from sklearn import linear_model"
   ]
  },
  {
   "cell_type": "code",
   "execution_count": 17,
   "id": "1dcf22ac",
   "metadata": {},
   "outputs": [],
   "source": [
    "regr = linear_model.LinearRegression()"
   ]
  },
  {
   "cell_type": "code",
   "execution_count": 18,
   "id": "1c589873",
   "metadata": {},
   "outputs": [],
   "source": [
    "train_x = np.asanyarray(train[['CYLINDERS']])          \n",
    "train_y = np.asanyarray(train[['CO2EMISSIONS']])       "
   ]
  },
  {
   "cell_type": "code",
   "execution_count": 19,
   "id": "42f468df",
   "metadata": {},
   "outputs": [
    {
     "data": {
      "text/plain": [
       "LinearRegression()"
      ]
     },
     "execution_count": 19,
     "metadata": {},
     "output_type": "execute_result"
    }
   ],
   "source": [
    "regr.fit(train_x, train_y)"
   ]
  },
  {
   "cell_type": "code",
   "execution_count": 20,
   "id": "3ef0fd41",
   "metadata": {},
   "outputs": [
    {
     "name": "stdout",
     "output_type": "stream",
     "text": [
      "Coefficients:  [[28.9900634]]\n",
      "Intercept:  [87.55835334]\n"
     ]
    }
   ],
   "source": [
    "print ('Coefficients: ', regr.coef_)\n",
    "print ('Intercept: ',regr.intercept_)"
   ]
  },
  {
   "cell_type": "code",
   "execution_count": 21,
   "id": "f9548a74",
   "metadata": {},
   "outputs": [
    {
     "data": {
      "text/plain": [
       "28.99006340107182"
      ]
     },
     "execution_count": 21,
     "metadata": {},
     "output_type": "execute_result"
    }
   ],
   "source": [
    "regr.coef_[0][0]"
   ]
  },
  {
   "cell_type": "code",
   "execution_count": 22,
   "id": "b3a51903",
   "metadata": {},
   "outputs": [
    {
     "data": {
      "text/plain": [
       "87.5583533419352"
      ]
     },
     "execution_count": 22,
     "metadata": {},
     "output_type": "execute_result"
    }
   ],
   "source": [
    "regr.intercept_[0]"
   ]
  },
  {
   "cell_type": "code",
   "execution_count": 23,
   "id": "68da9a4c",
   "metadata": {},
   "outputs": [
    {
     "data": {
      "text/plain": [
       "Text(0, 0.5, 'Co2_Emission')"
      ]
     },
     "execution_count": 23,
     "metadata": {},
     "output_type": "execute_result"
    },
    {
     "data": {
      "image/png": "[encoded data removed]",
      "text/plain": [
       "<Figure size 432x288 with 1 Axes>"
      ]
     },
     "metadata": {
      "needs_background": "light"
     },
     "output_type": "display_data"
    }
   ],
   "source": [
    "plt.scatter(train.CYLINDERS, train.CO2EMISSIONS,  color='Green')\n",
    "plt.plot(train_x, regr.coef_[0][0]*train_x + regr.intercept_[0], 'red') \n",
    "plt.xlabel(\"Cylinders\")\n",
    "plt.ylabel(\"Co2_Emission\")"
   ]
  },
  {
   "cell_type": "code",
   "execution_count": 24,
   "id": "5c27608f",
   "metadata": {},
   "outputs": [],
   "source": [
    "test_x = np.asanyarray(test[['CYLINDERS']]) \n",
    "test_y = np.asanyarray(test[['CO2EMISSIONS']])"
   ]
  },
  {
   "cell_type": "code",
   "execution_count": 25,
   "id": "69f6b1a7",
   "metadata": {},
   "outputs": [],
   "source": [
    "predicted_y = regr.predict(test_x) "
   ]
  },
  {
   "cell_type": "code",
   "execution_count": 26,
   "id": "a0090703",
   "metadata": {},
   "outputs": [],
   "source": [
    "from sklearn.metrics import r2_score "
   ]
  },
  {
   "cell_type": "code",
   "execution_count": 27,
   "id": "a771f46a",
   "metadata": {},
   "outputs": [
    {
     "name": "stdout",
     "output_type": "stream",
     "text": [
      "Mean absolute error: 23.63820072215995 \n"
     ]
    }
   ],
   "source": [
    "print(f\"Mean absolute error: {np.mean(np.absolute(predicted_y - test_y))} \")"
   ]
  },
  {
   "cell_type": "code",
   "execution_count": 28,
   "id": "95fb0035",
   "metadata": {},
   "outputs": [
    {
     "name": "stdout",
     "output_type": "stream",
     "text": [
      "Residual sum of squares (MSE): 1024.25\n"
     ]
    }
   ],
   "source": [
    "print(\"Residual sum of squares (MSE): %.2f\" % np.mean((predicted_y - test_y) **2))"
   ]
  },
  {
   "cell_type": "code",
   "execution_count": 29,
   "id": "f1960e1c",
   "metadata": {},
   "outputs": [
    {
     "name": "stdout",
     "output_type": "stream",
     "text": [
      "R2-score:0.7616753582471131\n"
     ]
    }
   ],
   "source": [
    "print(f\"R2-score:{r2_score(test_y , predicted_y)}\") "
   ]
  },
  {
   "cell_type": "code",
   "execution_count": 30,
   "id": "08b8814a",
   "metadata": {},
   "outputs": [
    {
     "name": "stdout",
     "output_type": "stream",
     "text": [
      "R2-score:76.17\n"
     ]
    }
   ],
   "source": [
    "print(f\"R2-score:{r2_score(test_y , predicted_y )*100 :.2f}\") "
   ]
  },
  {
   "cell_type": "code",
   "execution_count": 31,
   "id": "71f58c3f",
   "metadata": {},
   "outputs": [
    {
     "data": {
      "text/plain": [
       "array([[342.67091127]])"
      ]
     },
     "execution_count": 31,
     "metadata": {},
     "output_type": "execute_result"
    }
   ],
   "source": [
    "regr.predict([[8.8]])"
   ]
  },
  {
   "cell_type": "code",
   "execution_count": 32,
   "id": "d48b7fd4",
   "metadata": {},
   "outputs": [
    {
     "data": {
      "text/plain": [
       "array([[464.42917756]])"
      ]
     },
     "execution_count": 32,
     "metadata": {},
     "output_type": "execute_result"
    }
   ],
   "source": [
    "regr.predict([[13]])"
   ]
  },
  {
   "cell_type": "markdown",
   "id": "f24a994b",
   "metadata": {},
   "source": [
    "# Q5 : Train another model with independent variable as FuelConsumption_comb and dependent variable as Co2Emission"
   ]
  },
  {
   "cell_type": "code",
   "execution_count": 33,
   "id": "7e6b1177",
   "metadata": {},
   "outputs": [],
   "source": [
    "cdf2 = df[['FUELCONSUMPTION_COMB','CO2EMISSIONS']] "
   ]
  },
  {
   "cell_type": "code",
   "execution_count": 34,
   "id": "d84ead92",
   "metadata": {},
   "outputs": [
    {
     "data": {
      "text/html": [
       "<div>\n",
       "<style scoped>\n",
       "    .dataframe tbody tr th:only-of-type {\n",
       "        vertical-align: middle;\n",
       "    }\n",
       "\n",
       "    .dataframe tbody tr th {\n",
       "        vertical-align: top;\n",
       "    }\n",
       "\n",
       "    .dataframe thead th {\n",
       "        text-align: right;\n",
       "    }\n",
       "</style>\n",
       "<table border=\"1\" class=\"dataframe\">\n",
       "  <thead>\n",
       "    <tr style=\"text-align: right;\">\n",
       "      <th></th>\n",
       "      <th>FUELCONSUMPTION_COMB</th>\n",
       "      <th>CO2EMISSIONS</th>\n",
       "    </tr>\n",
       "  </thead>\n",
       "  <tbody>\n",
       "    <tr>\n",
       "      <th>0</th>\n",
       "      <td>8.5</td>\n",
       "      <td>196</td>\n",
       "    </tr>\n",
       "    <tr>\n",
       "      <th>1</th>\n",
       "      <td>9.6</td>\n",
       "      <td>221</td>\n",
       "    </tr>\n",
       "    <tr>\n",
       "      <th>2</th>\n",
       "      <td>5.9</td>\n",
       "      <td>136</td>\n",
       "    </tr>\n",
       "    <tr>\n",
       "      <th>3</th>\n",
       "      <td>11.1</td>\n",
       "      <td>255</td>\n",
       "    </tr>\n",
       "    <tr>\n",
       "      <th>4</th>\n",
       "      <td>10.6</td>\n",
       "      <td>244</td>\n",
       "    </tr>\n",
       "    <tr>\n",
       "      <th>...</th>\n",
       "      <td>...</td>\n",
       "      <td>...</td>\n",
       "    </tr>\n",
       "    <tr>\n",
       "      <th>1062</th>\n",
       "      <td>11.8</td>\n",
       "      <td>271</td>\n",
       "    </tr>\n",
       "    <tr>\n",
       "      <th>1063</th>\n",
       "      <td>11.5</td>\n",
       "      <td>264</td>\n",
       "    </tr>\n",
       "    <tr>\n",
       "      <th>1064</th>\n",
       "      <td>11.8</td>\n",
       "      <td>271</td>\n",
       "    </tr>\n",
       "    <tr>\n",
       "      <th>1065</th>\n",
       "      <td>11.3</td>\n",
       "      <td>260</td>\n",
       "    </tr>\n",
       "    <tr>\n",
       "      <th>1066</th>\n",
       "      <td>12.8</td>\n",
       "      <td>294</td>\n",
       "    </tr>\n",
       "  </tbody>\n",
       "</table>\n",
       "<p>1067 rows × 2 columns</p>\n",
       "</div>"
      ],
      "text/plain": [
       "      FUELCONSUMPTION_COMB  CO2EMISSIONS\n",
       "0                      8.5           196\n",
       "1                      9.6           221\n",
       "2                      5.9           136\n",
       "3                     11.1           255\n",
       "4                     10.6           244\n",
       "...                    ...           ...\n",
       "1062                  11.8           271\n",
       "1063                  11.5           264\n",
       "1064                  11.8           271\n",
       "1065                  11.3           260\n",
       "1066                  12.8           294\n",
       "\n",
       "[1067 rows x 2 columns]"
      ]
     },
     "execution_count": 34,
     "metadata": {},
     "output_type": "execute_result"
    }
   ],
   "source": [
    "cdf2"
   ]
  },
  {
   "cell_type": "code",
   "execution_count": 35,
   "id": "a4d866c1",
   "metadata": {},
   "outputs": [],
   "source": [
    "msk = np.random.rand(len(cdf2))  <= 0.80"
   ]
  },
  {
   "cell_type": "code",
   "execution_count": 36,
   "id": "4cf2c0aa",
   "metadata": {},
   "outputs": [],
   "source": [
    "train = cdf2[msk]"
   ]
  },
  {
   "cell_type": "code",
   "execution_count": 37,
   "id": "58617d03",
   "metadata": {},
   "outputs": [],
   "source": [
    "test = cdf2[~msk]"
   ]
  },
  {
   "cell_type": "code",
   "execution_count": 38,
   "id": "a32770c9",
   "metadata": {},
   "outputs": [
    {
     "data": {
      "text/plain": [
       "(852, 2)"
      ]
     },
     "execution_count": 38,
     "metadata": {},
     "output_type": "execute_result"
    }
   ],
   "source": [
    "train.shape"
   ]
  },
  {
   "cell_type": "code",
   "execution_count": 39,
   "id": "51c33bd3",
   "metadata": {},
   "outputs": [
    {
     "data": {
      "text/plain": [
       "(215, 2)"
      ]
     },
     "execution_count": 39,
     "metadata": {},
     "output_type": "execute_result"
    }
   ],
   "source": [
    "test.shape"
   ]
  },
  {
   "cell_type": "code",
   "execution_count": 40,
   "id": "0766ec25",
   "metadata": {},
   "outputs": [],
   "source": [
    "from sklearn import linear_model"
   ]
  },
  {
   "cell_type": "code",
   "execution_count": 41,
   "id": "40274495",
   "metadata": {},
   "outputs": [],
   "source": [
    "regr = linear_model.LinearRegression()"
   ]
  },
  {
   "cell_type": "code",
   "execution_count": 42,
   "id": "689c01ca",
   "metadata": {},
   "outputs": [
    {
     "data": {
      "text/plain": [
       "LinearRegression()"
      ]
     },
     "execution_count": 42,
     "metadata": {},
     "output_type": "execute_result"
    }
   ],
   "source": [
    "regr"
   ]
  },
  {
   "cell_type": "code",
   "execution_count": 43,
   "id": "e2b731af",
   "metadata": {},
   "outputs": [],
   "source": [
    "train_x = np.asanyarray(train[['FUELCONSUMPTION_COMB']])          \n",
    "train_y = np.asanyarray(train[['CO2EMISSIONS']])       "
   ]
  },
  {
   "cell_type": "code",
   "execution_count": 44,
   "id": "c5569afc",
   "metadata": {},
   "outputs": [
    {
     "data": {
      "text/plain": [
       "LinearRegression()"
      ]
     },
     "execution_count": 44,
     "metadata": {},
     "output_type": "execute_result"
    }
   ],
   "source": [
    "regr.fit(train_x, train_y)"
   ]
  },
  {
   "cell_type": "code",
   "execution_count": 45,
   "id": "cba2e972",
   "metadata": {},
   "outputs": [
    {
     "name": "stdout",
     "output_type": "stream",
     "text": [
      "Coefficients:  [[16.54737229]]\n",
      "Intercept:  [65.28835656]\n"
     ]
    }
   ],
   "source": [
    "print ('Coefficients: ', regr.coef_)\n",
    "print ('Intercept: ',regr.intercept_)"
   ]
  },
  {
   "cell_type": "code",
   "execution_count": 46,
   "id": "8c2ead01",
   "metadata": {},
   "outputs": [
    {
     "data": {
      "text/plain": [
       "16.54737229106671"
      ]
     },
     "execution_count": 46,
     "metadata": {},
     "output_type": "execute_result"
    }
   ],
   "source": [
    "regr.coef_[0][0]"
   ]
  },
  {
   "cell_type": "code",
   "execution_count": 47,
   "id": "f205fb29",
   "metadata": {},
   "outputs": [
    {
     "data": {
      "text/plain": [
       "65.28835655762344"
      ]
     },
     "execution_count": 47,
     "metadata": {},
     "output_type": "execute_result"
    }
   ],
   "source": [
    "regr.intercept_[0]"
   ]
  },
  {
   "cell_type": "code",
   "execution_count": 48,
   "id": "56017cce",
   "metadata": {},
   "outputs": [
    {
     "data": {
      "text/plain": [
       "Text(0, 0.5, 'Co2_Emission')"
      ]
     },
     "execution_count": 48,
     "metadata": {},
     "output_type": "execute_result"
    },
    {
     "data": {
      "image/png": "[encoded data removed]",
      "text/plain": [
       "<Figure size 432x288 with 1 Axes>"
      ]
     },
     "metadata": {
      "needs_background": "light"
     },
     "output_type": "display_data"
    }
   ],
   "source": [
    "plt.scatter(train.FUELCONSUMPTION_COMB, train.CO2EMISSIONS,  color='Blue')\n",
    "plt.plot(train_x, regr.coef_[0][0]*train_x + regr.intercept_[0], 'red') \n",
    "plt.xlabel(\"FUELCONSUMPTION\")\n",
    "plt.ylabel(\"Co2_Emission\")"
   ]
  },
  {
   "cell_type": "code",
   "execution_count": 49,
   "id": "9a20e7cd",
   "metadata": {},
   "outputs": [],
   "source": [
    "test_x = np.asanyarray(test[['FUELCONSUMPTION_COMB']]) \n",
    "test_y = np.asanyarray(test[['CO2EMISSIONS']])"
   ]
  },
  {
   "cell_type": "code",
   "execution_count": 50,
   "id": "4a6c229f",
   "metadata": {},
   "outputs": [
    {
     "data": {
      "text/plain": [
       "(215, 1)"
      ]
     },
     "execution_count": 50,
     "metadata": {},
     "output_type": "execute_result"
    }
   ],
   "source": [
    "test_x.shape\n"
   ]
  },
  {
   "cell_type": "code",
   "execution_count": 51,
   "id": "5d0d464b",
   "metadata": {},
   "outputs": [
    {
     "data": {
      "text/plain": [
       "(215, 1)"
      ]
     },
     "execution_count": 51,
     "metadata": {},
     "output_type": "execute_result"
    }
   ],
   "source": [
    "test_y.shape"
   ]
  },
  {
   "cell_type": "code",
   "execution_count": 52,
   "id": "ed30351a",
   "metadata": {},
   "outputs": [],
   "source": [
    "predicted_y = regr.predict(test_x) "
   ]
  },
  {
   "cell_type": "code",
   "execution_count": 53,
   "id": "3fcb6a07",
   "metadata": {},
   "outputs": [],
   "source": [
    "from sklearn.metrics import r2_score "
   ]
  },
  {
   "cell_type": "code",
   "execution_count": 54,
   "id": "ee60a6b4",
   "metadata": {},
   "outputs": [
    {
     "name": "stdout",
     "output_type": "stream",
     "text": [
      "R2-score:0.7603353630460093\n"
     ]
    }
   ],
   "source": [
    "print(f\"R2-score:{r2_score(test_y , predicted_y)}\") "
   ]
  },
  {
   "cell_type": "code",
   "execution_count": 55,
   "id": "19307471",
   "metadata": {},
   "outputs": [
    {
     "name": "stdout",
     "output_type": "stream",
     "text": [
      "R2-score:76.03 %\n"
     ]
    }
   ],
   "source": [
    "print(f\"R2-score:{r2_score(test_y , predicted_y)*100:.2f} %\")"
   ]
  },
  {
   "cell_type": "code",
   "execution_count": 56,
   "id": "24e813e2",
   "metadata": {},
   "outputs": [
    {
     "name": "stdout",
     "output_type": "stream",
     "text": [
      "Residual sum of squares (MSE): 960.95\n"
     ]
    }
   ],
   "source": [
    "print(\"Residual sum of squares (MSE): %.2f\" % np.mean((predicted_y - test_y) **2))"
   ]
  },
  {
   "cell_type": "code",
   "execution_count": 57,
   "id": "84a42b70",
   "metadata": {},
   "outputs": [
    {
     "data": {
      "text/plain": [
       "array([[199.32207212]])"
      ]
     },
     "execution_count": 57,
     "metadata": {},
     "output_type": "execute_result"
    }
   ],
   "source": [
    "regr.predict([[8.1]])"
   ]
  },
  {
   "cell_type": "code",
   "execution_count": 58,
   "id": "8c9e66ae",
   "metadata": {},
   "outputs": [
    {
     "data": {
      "text/plain": [
       "array([[265.51156128]])"
      ]
     },
     "execution_count": 58,
     "metadata": {},
     "output_type": "execute_result"
    }
   ],
   "source": [
    "regr.predict([[12.1]])"
   ]
  },
  {
   "cell_type": "markdown",
   "id": "17af8d6d",
   "metadata": {},
   "source": [
    "# Q6 : Train your model on different train test ratio and train the models and note down there accuracies"
   ]
  },
  {
   "cell_type": "code",
   "execution_count": 59,
   "id": "0951d0cb",
   "metadata": {},
   "outputs": [
    {
     "data": {
      "text/html": [
       "<div>\n",
       "<style scoped>\n",
       "    .dataframe tbody tr th:only-of-type {\n",
       "        vertical-align: middle;\n",
       "    }\n",
       "\n",
       "    .dataframe tbody tr th {\n",
       "        vertical-align: top;\n",
       "    }\n",
       "\n",
       "    .dataframe thead th {\n",
       "        text-align: right;\n",
       "    }\n",
       "</style>\n",
       "<table border=\"1\" class=\"dataframe\">\n",
       "  <thead>\n",
       "    <tr style=\"text-align: right;\">\n",
       "      <th></th>\n",
       "      <th>FUELCONSUMPTION_COMB</th>\n",
       "      <th>CO2EMISSIONS</th>\n",
       "    </tr>\n",
       "  </thead>\n",
       "  <tbody>\n",
       "    <tr>\n",
       "      <th>0</th>\n",
       "      <td>8.5</td>\n",
       "      <td>196</td>\n",
       "    </tr>\n",
       "    <tr>\n",
       "      <th>1</th>\n",
       "      <td>9.6</td>\n",
       "      <td>221</td>\n",
       "    </tr>\n",
       "    <tr>\n",
       "      <th>2</th>\n",
       "      <td>5.9</td>\n",
       "      <td>136</td>\n",
       "    </tr>\n",
       "    <tr>\n",
       "      <th>3</th>\n",
       "      <td>11.1</td>\n",
       "      <td>255</td>\n",
       "    </tr>\n",
       "    <tr>\n",
       "      <th>4</th>\n",
       "      <td>10.6</td>\n",
       "      <td>244</td>\n",
       "    </tr>\n",
       "    <tr>\n",
       "      <th>...</th>\n",
       "      <td>...</td>\n",
       "      <td>...</td>\n",
       "    </tr>\n",
       "    <tr>\n",
       "      <th>1062</th>\n",
       "      <td>11.8</td>\n",
       "      <td>271</td>\n",
       "    </tr>\n",
       "    <tr>\n",
       "      <th>1063</th>\n",
       "      <td>11.5</td>\n",
       "      <td>264</td>\n",
       "    </tr>\n",
       "    <tr>\n",
       "      <th>1064</th>\n",
       "      <td>11.8</td>\n",
       "      <td>271</td>\n",
       "    </tr>\n",
       "    <tr>\n",
       "      <th>1065</th>\n",
       "      <td>11.3</td>\n",
       "      <td>260</td>\n",
       "    </tr>\n",
       "    <tr>\n",
       "      <th>1066</th>\n",
       "      <td>12.8</td>\n",
       "      <td>294</td>\n",
       "    </tr>\n",
       "  </tbody>\n",
       "</table>\n",
       "<p>1067 rows × 2 columns</p>\n",
       "</div>"
      ],
      "text/plain": [
       "      FUELCONSUMPTION_COMB  CO2EMISSIONS\n",
       "0                      8.5           196\n",
       "1                      9.6           221\n",
       "2                      5.9           136\n",
       "3                     11.1           255\n",
       "4                     10.6           244\n",
       "...                    ...           ...\n",
       "1062                  11.8           271\n",
       "1063                  11.5           264\n",
       "1064                  11.8           271\n",
       "1065                  11.3           260\n",
       "1066                  12.8           294\n",
       "\n",
       "[1067 rows x 2 columns]"
      ]
     },
     "execution_count": 59,
     "metadata": {},
     "output_type": "execute_result"
    }
   ],
   "source": [
    "cdf2"
   ]
  },
  {
   "cell_type": "code",
   "execution_count": 60,
   "id": "a74e21e9",
   "metadata": {},
   "outputs": [],
   "source": [
    "# now we training  data on 80 :20 "
   ]
  },
  {
   "cell_type": "code",
   "execution_count": 61,
   "id": "68e47060",
   "metadata": {},
   "outputs": [
    {
     "name": "stdout",
     "output_type": "stream",
     "text": [
      "Coefficients:  [[16.02612838]]\n",
      "Intercept:  [69.67459833]\n",
      "R2-score:81.25 %\n"
     ]
    }
   ],
   "source": [
    "X = cdf2[[\"FUELCONSUMPTION_COMB\"]].values \n",
    "y = cdf2[[\"CO2EMISSIONS\"]].values \n",
    "from sklearn.model_selection import train_test_split\n",
    "X_train2, X_test2, y_train2, y_test2 = train_test_split(X, y, test_size= 0.20, random_state= 40)\n",
    "\n",
    "from sklearn import linear_model\n",
    "regr2 = linear_model.LinearRegression()\n",
    "regr2.fit(X_train2, y_train2)\n",
    "\n",
    "print ('Coefficients: ', regr2.coef_)\n",
    "print ('Intercept: ',regr2.intercept_)\n",
    "\n",
    "predicted_y2 = regr2.predict(X_test2) \n",
    "\n",
    "from sklearn.metrics import r2_score \n",
    "\n",
    "print(f\"R2-score:{r2_score(y_test2 , predicted_y2)*100:.2f} %\")\n",
    "\n",
    "trained_data80_20 = (f\"R2-score:{r2_score(y_test2 , predicted_y2)*100:.2f} %\")"
   ]
  },
  {
   "cell_type": "code",
   "execution_count": 62,
   "id": "5bcaa2ce",
   "metadata": {},
   "outputs": [
    {
     "data": {
      "text/plain": [
       "'R2-score:81.25 %'"
      ]
     },
     "execution_count": 62,
     "metadata": {},
     "output_type": "execute_result"
    }
   ],
   "source": [
    "trained_data80_20"
   ]
  },
  {
   "cell_type": "code",
   "execution_count": 63,
   "id": "7e57a8fc",
   "metadata": {},
   "outputs": [],
   "source": [
    "# Now training data 90 : 10\n"
   ]
  },
  {
   "cell_type": "code",
   "execution_count": 64,
   "id": "00091301",
   "metadata": {},
   "outputs": [
    {
     "name": "stdout",
     "output_type": "stream",
     "text": [
      "Coefficients:  [[16.28426032]]\n",
      "Intercept:  [67.73403214]\n",
      "R2-score:78.35 %\n"
     ]
    }
   ],
   "source": [
    "X = cdf2[[\"FUELCONSUMPTION_COMB\"]].values \n",
    "y = cdf2[[\"CO2EMISSIONS\"]].values \n",
    "from sklearn.model_selection import train_test_split\n",
    "X_train2, X_test2, y_train2, y_test2 = train_test_split(X, y, test_size= 0.10, random_state= 30)\n",
    "\n",
    "from sklearn import linear_model\n",
    "regr2 = linear_model.LinearRegression()\n",
    "regr2.fit(X_train2, y_train2)\n",
    "\n",
    "print ('Coefficients: ', regr2.coef_)\n",
    "print ('Intercept: ',regr2.intercept_)\n",
    "\n",
    "predicted_y2 = regr2.predict(X_test2) \n",
    "\n",
    "from sklearn.metrics import r2_score \n",
    "\n",
    "print(f\"R2-score:{r2_score(y_test2 , predicted_y2)*100:.2f} %\")\n",
    "\n",
    "trained_data90_10 = (f\"R2-score:{r2_score(y_test2 , predicted_y2)*100:.2f} %\")"
   ]
  },
  {
   "cell_type": "code",
   "execution_count": 65,
   "id": "e77ec766",
   "metadata": {},
   "outputs": [
    {
     "data": {
      "text/plain": [
       "'R2-score:78.35 %'"
      ]
     },
     "execution_count": 65,
     "metadata": {},
     "output_type": "execute_result"
    }
   ],
   "source": [
    "trained_data90_10"
   ]
  },
  {
   "cell_type": "code",
   "execution_count": 66,
   "id": "8eebadea",
   "metadata": {},
   "outputs": [],
   "source": [
    "# # Now training data 70 : 30"
   ]
  },
  {
   "cell_type": "code",
   "execution_count": 67,
   "id": "5c287030",
   "metadata": {},
   "outputs": [
    {
     "name": "stdout",
     "output_type": "stream",
     "text": [
      "Coefficients:  [[16.30327134]]\n",
      "Intercept:  [67.07669754]\n",
      "R2-score:79.10 %\n"
     ]
    }
   ],
   "source": [
    "X = cdf2[[\"FUELCONSUMPTION_COMB\"]].values  # Independennt variables\n",
    "y = cdf2[[\"CO2EMISSIONS\"]].values # Labels/ Dependent Variables\n",
    "from sklearn.model_selection import train_test_split\n",
    "X_train2, X_test2, y_train2, y_test2 = train_test_split(X, y, test_size= 0.30, random_state= 40)\n",
    "\n",
    "from sklearn import linear_model\n",
    "regr2 = linear_model.LinearRegression()\n",
    "regr2.fit(X_train2, y_train2)\n",
    "\n",
    "print ('Coefficients: ', regr2.coef_)\n",
    "print ('Intercept: ',regr2.intercept_)\n",
    "\n",
    "predicted_y2 = regr2.predict(X_test2) \n",
    "\n",
    "from sklearn.metrics import r2_score \n",
    "\n",
    "print(f\"R2-score:{r2_score(y_test2 , predicted_y2)*100:.2f} %\")\n",
    "\n",
    "trained_data70_30 = (f\"R2-score:{r2_score(y_test2 , predicted_y2)*100:.2f} %\")"
   ]
  },
  {
   "cell_type": "code",
   "execution_count": 68,
   "id": "33361867",
   "metadata": {},
   "outputs": [
    {
     "data": {
      "text/plain": [
       "'R2-score:79.10 %'"
      ]
     },
     "execution_count": 68,
     "metadata": {},
     "output_type": "execute_result"
    }
   ],
   "source": [
    "trained_data70_30 "
   ]
  },
  {
   "cell_type": "code",
   "execution_count": 69,
   "id": "4fcd45fd",
   "metadata": {},
   "outputs": [
    {
     "name": "stdout",
     "output_type": "stream",
     "text": [
      "Accuracy when spit data in 80:20 is R2-score:81.25 %,\n",
      "Accuracy when spit data in 90:10 is R2-score:78.35 %,\n",
      "Accuracy when spit data in 70:30 is R2-score:79.10 % \n"
     ]
    }
   ],
   "source": [
    "print(F\"\"\"Accuracy when spit data in 80:20 is {trained_data80_20},\n",
    "Accuracy when spit data in 90:10 is {trained_data90_10},\n",
    "Accuracy when spit data in 70:30 is {trained_data70_30} \"\"\")"
   ]
  },
  {
   "cell_type": "markdown",
   "id": "b88201d8",
   "metadata": {},
   "source": [
    "# Q7 : we are providing you another dataset regarding housing prediction to need to apply Linear Regression on atleast 5 pairs of independent and dependent variable and store their accuracy and then make a plot of those accuracy"
   ]
  },
  {
   "cell_type": "code",
   "execution_count": 70,
   "id": "901fdc3f",
   "metadata": {},
   "outputs": [],
   "source": [
    "import matplotlib.pyplot as plt\n",
    "import pandas as pd\n",
    "import numpy as np\n"
   ]
  },
  {
   "cell_type": "code",
   "execution_count": 71,
   "id": "8bc0b4d3",
   "metadata": {},
   "outputs": [
    {
     "data": {
      "text/html": [
       "<div>\n",
       "<style scoped>\n",
       "    .dataframe tbody tr th:only-of-type {\n",
       "        vertical-align: middle;\n",
       "    }\n",
       "\n",
       "    .dataframe tbody tr th {\n",
       "        vertical-align: top;\n",
       "    }\n",
       "\n",
       "    .dataframe thead th {\n",
       "        text-align: right;\n",
       "    }\n",
       "</style>\n",
       "<table border=\"1\" class=\"dataframe\">\n",
       "  <thead>\n",
       "    <tr style=\"text-align: right;\">\n",
       "      <th></th>\n",
       "      <th>Id</th>\n",
       "      <th>MSSubClass</th>\n",
       "      <th>MSZoning</th>\n",
       "      <th>LotArea</th>\n",
       "      <th>Street</th>\n",
       "      <th>LotShape</th>\n",
       "      <th>LandContour</th>\n",
       "      <th>Utilities</th>\n",
       "      <th>LotConfig</th>\n",
       "      <th>LandSlope</th>\n",
       "      <th>...</th>\n",
       "      <th>EnclosedPorch</th>\n",
       "      <th>3SsnPorch</th>\n",
       "      <th>ScreenPorch</th>\n",
       "      <th>PoolArea</th>\n",
       "      <th>MiscVal</th>\n",
       "      <th>MoSold</th>\n",
       "      <th>YrSold</th>\n",
       "      <th>SaleType</th>\n",
       "      <th>SaleCondition</th>\n",
       "      <th>SalePrice</th>\n",
       "    </tr>\n",
       "  </thead>\n",
       "  <tbody>\n",
       "    <tr>\n",
       "      <th>0</th>\n",
       "      <td>1</td>\n",
       "      <td>60</td>\n",
       "      <td>RL</td>\n",
       "      <td>8450</td>\n",
       "      <td>Pave</td>\n",
       "      <td>Reg</td>\n",
       "      <td>Lvl</td>\n",
       "      <td>AllPub</td>\n",
       "      <td>Inside</td>\n",
       "      <td>Gtl</td>\n",
       "      <td>...</td>\n",
       "      <td>0</td>\n",
       "      <td>0</td>\n",
       "      <td>0</td>\n",
       "      <td>0</td>\n",
       "      <td>0</td>\n",
       "      <td>2</td>\n",
       "      <td>2008</td>\n",
       "      <td>WD</td>\n",
       "      <td>Normal</td>\n",
       "      <td>208500</td>\n",
       "    </tr>\n",
       "    <tr>\n",
       "      <th>1</th>\n",
       "      <td>2</td>\n",
       "      <td>20</td>\n",
       "      <td>RL</td>\n",
       "      <td>9600</td>\n",
       "      <td>Pave</td>\n",
       "      <td>Reg</td>\n",
       "      <td>Lvl</td>\n",
       "      <td>AllPub</td>\n",
       "      <td>FR2</td>\n",
       "      <td>Gtl</td>\n",
       "      <td>...</td>\n",
       "      <td>0</td>\n",
       "      <td>0</td>\n",
       "      <td>0</td>\n",
       "      <td>0</td>\n",
       "      <td>0</td>\n",
       "      <td>5</td>\n",
       "      <td>2007</td>\n",
       "      <td>WD</td>\n",
       "      <td>Normal</td>\n",
       "      <td>181500</td>\n",
       "    </tr>\n",
       "    <tr>\n",
       "      <th>2</th>\n",
       "      <td>3</td>\n",
       "      <td>60</td>\n",
       "      <td>RL</td>\n",
       "      <td>11250</td>\n",
       "      <td>Pave</td>\n",
       "      <td>IR1</td>\n",
       "      <td>Lvl</td>\n",
       "      <td>AllPub</td>\n",
       "      <td>Inside</td>\n",
       "      <td>Gtl</td>\n",
       "      <td>...</td>\n",
       "      <td>0</td>\n",
       "      <td>0</td>\n",
       "      <td>0</td>\n",
       "      <td>0</td>\n",
       "      <td>0</td>\n",
       "      <td>9</td>\n",
       "      <td>2008</td>\n",
       "      <td>WD</td>\n",
       "      <td>Normal</td>\n",
       "      <td>223500</td>\n",
       "    </tr>\n",
       "    <tr>\n",
       "      <th>3</th>\n",
       "      <td>4</td>\n",
       "      <td>70</td>\n",
       "      <td>RL</td>\n",
       "      <td>9550</td>\n",
       "      <td>Pave</td>\n",
       "      <td>IR1</td>\n",
       "      <td>Lvl</td>\n",
       "      <td>AllPub</td>\n",
       "      <td>Corner</td>\n",
       "      <td>Gtl</td>\n",
       "      <td>...</td>\n",
       "      <td>272</td>\n",
       "      <td>0</td>\n",
       "      <td>0</td>\n",
       "      <td>0</td>\n",
       "      <td>0</td>\n",
       "      <td>2</td>\n",
       "      <td>2006</td>\n",
       "      <td>WD</td>\n",
       "      <td>Abnorml</td>\n",
       "      <td>140000</td>\n",
       "    </tr>\n",
       "    <tr>\n",
       "      <th>4</th>\n",
       "      <td>5</td>\n",
       "      <td>60</td>\n",
       "      <td>RL</td>\n",
       "      <td>14260</td>\n",
       "      <td>Pave</td>\n",
       "      <td>IR1</td>\n",
       "      <td>Lvl</td>\n",
       "      <td>AllPub</td>\n",
       "      <td>FR2</td>\n",
       "      <td>Gtl</td>\n",
       "      <td>...</td>\n",
       "      <td>0</td>\n",
       "      <td>0</td>\n",
       "      <td>0</td>\n",
       "      <td>0</td>\n",
       "      <td>0</td>\n",
       "      <td>12</td>\n",
       "      <td>2008</td>\n",
       "      <td>WD</td>\n",
       "      <td>Normal</td>\n",
       "      <td>250000</td>\n",
       "    </tr>\n",
       "  </tbody>\n",
       "</table>\n",
       "<p>5 rows × 62 columns</p>\n",
       "</div>"
      ],
      "text/plain": [
       "   Id  MSSubClass MSZoning  LotArea Street LotShape LandContour Utilities  \\\n",
       "0   1          60       RL     8450   Pave      Reg         Lvl    AllPub   \n",
       "1   2          20       RL     9600   Pave      Reg         Lvl    AllPub   \n",
       "2   3          60       RL    11250   Pave      IR1         Lvl    AllPub   \n",
       "3   4          70       RL     9550   Pave      IR1         Lvl    AllPub   \n",
       "4   5          60       RL    14260   Pave      IR1         Lvl    AllPub   \n",
       "\n",
       "  LotConfig LandSlope  ... EnclosedPorch 3SsnPorch ScreenPorch PoolArea  \\\n",
       "0    Inside       Gtl  ...             0         0           0        0   \n",
       "1       FR2       Gtl  ...             0         0           0        0   \n",
       "2    Inside       Gtl  ...             0         0           0        0   \n",
       "3    Corner       Gtl  ...           272         0           0        0   \n",
       "4       FR2       Gtl  ...             0         0           0        0   \n",
       "\n",
       "  MiscVal  MoSold  YrSold  SaleType  SaleCondition SalePrice  \n",
       "0       0       2    2008        WD         Normal    208500  \n",
       "1       0       5    2007        WD         Normal    181500  \n",
       "2       0       9    2008        WD         Normal    223500  \n",
       "3       0       2    2006        WD        Abnorml    140000  \n",
       "4       0      12    2008        WD         Normal    250000  \n",
       "\n",
       "[5 rows x 62 columns]"
      ]
     },
     "execution_count": 71,
     "metadata": {},
     "output_type": "execute_result"
    }
   ],
   "source": [
    "df = pd.read_csv(\"C:/Users/Rushi Patil/Desktop/Data sets/houseRegressionStudents.csv\")\n",
    "df.head()"
   ]
  },
  {
   "cell_type": "code",
   "execution_count": 72,
   "id": "270a9417",
   "metadata": {},
   "outputs": [],
   "source": [
    "df1 = df.drop('SalePrice',axis = 1)   "
   ]
  },
  {
   "cell_type": "code",
   "execution_count": 73,
   "id": "329f5278",
   "metadata": {},
   "outputs": [
    {
     "data": {
      "text/html": [
       "<div>\n",
       "<style scoped>\n",
       "    .dataframe tbody tr th:only-of-type {\n",
       "        vertical-align: middle;\n",
       "    }\n",
       "\n",
       "    .dataframe tbody tr th {\n",
       "        vertical-align: top;\n",
       "    }\n",
       "\n",
       "    .dataframe thead th {\n",
       "        text-align: right;\n",
       "    }\n",
       "</style>\n",
       "<table border=\"1\" class=\"dataframe\">\n",
       "  <thead>\n",
       "    <tr style=\"text-align: right;\">\n",
       "      <th></th>\n",
       "      <th>Id</th>\n",
       "      <th>MSSubClass</th>\n",
       "      <th>MSZoning</th>\n",
       "      <th>LotArea</th>\n",
       "      <th>Street</th>\n",
       "      <th>LotShape</th>\n",
       "      <th>LandContour</th>\n",
       "      <th>Utilities</th>\n",
       "      <th>LotConfig</th>\n",
       "      <th>LandSlope</th>\n",
       "      <th>...</th>\n",
       "      <th>OpenPorchSF</th>\n",
       "      <th>EnclosedPorch</th>\n",
       "      <th>3SsnPorch</th>\n",
       "      <th>ScreenPorch</th>\n",
       "      <th>PoolArea</th>\n",
       "      <th>MiscVal</th>\n",
       "      <th>MoSold</th>\n",
       "      <th>YrSold</th>\n",
       "      <th>SaleType</th>\n",
       "      <th>SaleCondition</th>\n",
       "    </tr>\n",
       "  </thead>\n",
       "  <tbody>\n",
       "    <tr>\n",
       "      <th>0</th>\n",
       "      <td>1</td>\n",
       "      <td>60</td>\n",
       "      <td>RL</td>\n",
       "      <td>8450</td>\n",
       "      <td>Pave</td>\n",
       "      <td>Reg</td>\n",
       "      <td>Lvl</td>\n",
       "      <td>AllPub</td>\n",
       "      <td>Inside</td>\n",
       "      <td>Gtl</td>\n",
       "      <td>...</td>\n",
       "      <td>61</td>\n",
       "      <td>0</td>\n",
       "      <td>0</td>\n",
       "      <td>0</td>\n",
       "      <td>0</td>\n",
       "      <td>0</td>\n",
       "      <td>2</td>\n",
       "      <td>2008</td>\n",
       "      <td>WD</td>\n",
       "      <td>Normal</td>\n",
       "    </tr>\n",
       "    <tr>\n",
       "      <th>1</th>\n",
       "      <td>2</td>\n",
       "      <td>20</td>\n",
       "      <td>RL</td>\n",
       "      <td>9600</td>\n",
       "      <td>Pave</td>\n",
       "      <td>Reg</td>\n",
       "      <td>Lvl</td>\n",
       "      <td>AllPub</td>\n",
       "      <td>FR2</td>\n",
       "      <td>Gtl</td>\n",
       "      <td>...</td>\n",
       "      <td>0</td>\n",
       "      <td>0</td>\n",
       "      <td>0</td>\n",
       "      <td>0</td>\n",
       "      <td>0</td>\n",
       "      <td>0</td>\n",
       "      <td>5</td>\n",
       "      <td>2007</td>\n",
       "      <td>WD</td>\n",
       "      <td>Normal</td>\n",
       "    </tr>\n",
       "    <tr>\n",
       "      <th>2</th>\n",
       "      <td>3</td>\n",
       "      <td>60</td>\n",
       "      <td>RL</td>\n",
       "      <td>11250</td>\n",
       "      <td>Pave</td>\n",
       "      <td>IR1</td>\n",
       "      <td>Lvl</td>\n",
       "      <td>AllPub</td>\n",
       "      <td>Inside</td>\n",
       "      <td>Gtl</td>\n",
       "      <td>...</td>\n",
       "      <td>42</td>\n",
       "      <td>0</td>\n",
       "      <td>0</td>\n",
       "      <td>0</td>\n",
       "      <td>0</td>\n",
       "      <td>0</td>\n",
       "      <td>9</td>\n",
       "      <td>2008</td>\n",
       "      <td>WD</td>\n",
       "      <td>Normal</td>\n",
       "    </tr>\n",
       "    <tr>\n",
       "      <th>3</th>\n",
       "      <td>4</td>\n",
       "      <td>70</td>\n",
       "      <td>RL</td>\n",
       "      <td>9550</td>\n",
       "      <td>Pave</td>\n",
       "      <td>IR1</td>\n",
       "      <td>Lvl</td>\n",
       "      <td>AllPub</td>\n",
       "      <td>Corner</td>\n",
       "      <td>Gtl</td>\n",
       "      <td>...</td>\n",
       "      <td>35</td>\n",
       "      <td>272</td>\n",
       "      <td>0</td>\n",
       "      <td>0</td>\n",
       "      <td>0</td>\n",
       "      <td>0</td>\n",
       "      <td>2</td>\n",
       "      <td>2006</td>\n",
       "      <td>WD</td>\n",
       "      <td>Abnorml</td>\n",
       "    </tr>\n",
       "    <tr>\n",
       "      <th>4</th>\n",
       "      <td>5</td>\n",
       "      <td>60</td>\n",
       "      <td>RL</td>\n",
       "      <td>14260</td>\n",
       "      <td>Pave</td>\n",
       "      <td>IR1</td>\n",
       "      <td>Lvl</td>\n",
       "      <td>AllPub</td>\n",
       "      <td>FR2</td>\n",
       "      <td>Gtl</td>\n",
       "      <td>...</td>\n",
       "      <td>84</td>\n",
       "      <td>0</td>\n",
       "      <td>0</td>\n",
       "      <td>0</td>\n",
       "      <td>0</td>\n",
       "      <td>0</td>\n",
       "      <td>12</td>\n",
       "      <td>2008</td>\n",
       "      <td>WD</td>\n",
       "      <td>Normal</td>\n",
       "    </tr>\n",
       "    <tr>\n",
       "      <th>...</th>\n",
       "      <td>...</td>\n",
       "      <td>...</td>\n",
       "      <td>...</td>\n",
       "      <td>...</td>\n",
       "      <td>...</td>\n",
       "      <td>...</td>\n",
       "      <td>...</td>\n",
       "      <td>...</td>\n",
       "      <td>...</td>\n",
       "      <td>...</td>\n",
       "      <td>...</td>\n",
       "      <td>...</td>\n",
       "      <td>...</td>\n",
       "      <td>...</td>\n",
       "      <td>...</td>\n",
       "      <td>...</td>\n",
       "      <td>...</td>\n",
       "      <td>...</td>\n",
       "      <td>...</td>\n",
       "      <td>...</td>\n",
       "      <td>...</td>\n",
       "    </tr>\n",
       "    <tr>\n",
       "      <th>1455</th>\n",
       "      <td>1456</td>\n",
       "      <td>60</td>\n",
       "      <td>RL</td>\n",
       "      <td>7917</td>\n",
       "      <td>Pave</td>\n",
       "      <td>Reg</td>\n",
       "      <td>Lvl</td>\n",
       "      <td>AllPub</td>\n",
       "      <td>Inside</td>\n",
       "      <td>Gtl</td>\n",
       "      <td>...</td>\n",
       "      <td>40</td>\n",
       "      <td>0</td>\n",
       "      <td>0</td>\n",
       "      <td>0</td>\n",
       "      <td>0</td>\n",
       "      <td>0</td>\n",
       "      <td>8</td>\n",
       "      <td>2007</td>\n",
       "      <td>WD</td>\n",
       "      <td>Normal</td>\n",
       "    </tr>\n",
       "    <tr>\n",
       "      <th>1456</th>\n",
       "      <td>1457</td>\n",
       "      <td>20</td>\n",
       "      <td>RL</td>\n",
       "      <td>13175</td>\n",
       "      <td>Pave</td>\n",
       "      <td>Reg</td>\n",
       "      <td>Lvl</td>\n",
       "      <td>AllPub</td>\n",
       "      <td>Inside</td>\n",
       "      <td>Gtl</td>\n",
       "      <td>...</td>\n",
       "      <td>0</td>\n",
       "      <td>0</td>\n",
       "      <td>0</td>\n",
       "      <td>0</td>\n",
       "      <td>0</td>\n",
       "      <td>0</td>\n",
       "      <td>2</td>\n",
       "      <td>2010</td>\n",
       "      <td>WD</td>\n",
       "      <td>Normal</td>\n",
       "    </tr>\n",
       "    <tr>\n",
       "      <th>1457</th>\n",
       "      <td>1458</td>\n",
       "      <td>70</td>\n",
       "      <td>RL</td>\n",
       "      <td>9042</td>\n",
       "      <td>Pave</td>\n",
       "      <td>Reg</td>\n",
       "      <td>Lvl</td>\n",
       "      <td>AllPub</td>\n",
       "      <td>Inside</td>\n",
       "      <td>Gtl</td>\n",
       "      <td>...</td>\n",
       "      <td>60</td>\n",
       "      <td>0</td>\n",
       "      <td>0</td>\n",
       "      <td>0</td>\n",
       "      <td>0</td>\n",
       "      <td>2500</td>\n",
       "      <td>5</td>\n",
       "      <td>2010</td>\n",
       "      <td>WD</td>\n",
       "      <td>Normal</td>\n",
       "    </tr>\n",
       "    <tr>\n",
       "      <th>1458</th>\n",
       "      <td>1459</td>\n",
       "      <td>20</td>\n",
       "      <td>RL</td>\n",
       "      <td>9717</td>\n",
       "      <td>Pave</td>\n",
       "      <td>Reg</td>\n",
       "      <td>Lvl</td>\n",
       "      <td>AllPub</td>\n",
       "      <td>Inside</td>\n",
       "      <td>Gtl</td>\n",
       "      <td>...</td>\n",
       "      <td>0</td>\n",
       "      <td>112</td>\n",
       "      <td>0</td>\n",
       "      <td>0</td>\n",
       "      <td>0</td>\n",
       "      <td>0</td>\n",
       "      <td>4</td>\n",
       "      <td>2010</td>\n",
       "      <td>WD</td>\n",
       "      <td>Normal</td>\n",
       "    </tr>\n",
       "    <tr>\n",
       "      <th>1459</th>\n",
       "      <td>1460</td>\n",
       "      <td>20</td>\n",
       "      <td>RL</td>\n",
       "      <td>9937</td>\n",
       "      <td>Pave</td>\n",
       "      <td>Reg</td>\n",
       "      <td>Lvl</td>\n",
       "      <td>AllPub</td>\n",
       "      <td>Inside</td>\n",
       "      <td>Gtl</td>\n",
       "      <td>...</td>\n",
       "      <td>68</td>\n",
       "      <td>0</td>\n",
       "      <td>0</td>\n",
       "      <td>0</td>\n",
       "      <td>0</td>\n",
       "      <td>0</td>\n",
       "      <td>6</td>\n",
       "      <td>2008</td>\n",
       "      <td>WD</td>\n",
       "      <td>Normal</td>\n",
       "    </tr>\n",
       "  </tbody>\n",
       "</table>\n",
       "<p>1460 rows × 61 columns</p>\n",
       "</div>"
      ],
      "text/plain": [
       "        Id  MSSubClass MSZoning  LotArea Street LotShape LandContour  \\\n",
       "0        1          60       RL     8450   Pave      Reg         Lvl   \n",
       "1        2          20       RL     9600   Pave      Reg         Lvl   \n",
       "2        3          60       RL    11250   Pave      IR1         Lvl   \n",
       "3        4          70       RL     9550   Pave      IR1         Lvl   \n",
       "4        5          60       RL    14260   Pave      IR1         Lvl   \n",
       "...    ...         ...      ...      ...    ...      ...         ...   \n",
       "1455  1456          60       RL     7917   Pave      Reg         Lvl   \n",
       "1456  1457          20       RL    13175   Pave      Reg         Lvl   \n",
       "1457  1458          70       RL     9042   Pave      Reg         Lvl   \n",
       "1458  1459          20       RL     9717   Pave      Reg         Lvl   \n",
       "1459  1460          20       RL     9937   Pave      Reg         Lvl   \n",
       "\n",
       "     Utilities LotConfig LandSlope  ... OpenPorchSF EnclosedPorch 3SsnPorch  \\\n",
       "0       AllPub    Inside       Gtl  ...          61             0         0   \n",
       "1       AllPub       FR2       Gtl  ...           0             0         0   \n",
       "2       AllPub    Inside       Gtl  ...          42             0         0   \n",
       "3       AllPub    Corner       Gtl  ...          35           272         0   \n",
       "4       AllPub       FR2       Gtl  ...          84             0         0   \n",
       "...        ...       ...       ...  ...         ...           ...       ...   \n",
       "1455    AllPub    Inside       Gtl  ...          40             0         0   \n",
       "1456    AllPub    Inside       Gtl  ...           0             0         0   \n",
       "1457    AllPub    Inside       Gtl  ...          60             0         0   \n",
       "1458    AllPub    Inside       Gtl  ...           0           112         0   \n",
       "1459    AllPub    Inside       Gtl  ...          68             0         0   \n",
       "\n",
       "     ScreenPorch PoolArea  MiscVal  MoSold  YrSold  SaleType SaleCondition  \n",
       "0              0        0        0       2    2008        WD        Normal  \n",
       "1              0        0        0       5    2007        WD        Normal  \n",
       "2              0        0        0       9    2008        WD        Normal  \n",
       "3              0        0        0       2    2006        WD       Abnorml  \n",
       "4              0        0        0      12    2008        WD        Normal  \n",
       "...          ...      ...      ...     ...     ...       ...           ...  \n",
       "1455           0        0        0       8    2007        WD        Normal  \n",
       "1456           0        0        0       2    2010        WD        Normal  \n",
       "1457           0        0     2500       5    2010        WD        Normal  \n",
       "1458           0        0        0       4    2010        WD        Normal  \n",
       "1459           0        0        0       6    2008        WD        Normal  \n",
       "\n",
       "[1460 rows x 61 columns]"
      ]
     },
     "execution_count": 73,
     "metadata": {},
     "output_type": "execute_result"
    }
   ],
   "source": [
    "df1"
   ]
  },
  {
   "cell_type": "code",
   "execution_count": 74,
   "id": "283c2bed",
   "metadata": {},
   "outputs": [],
   "source": [
    "DV = df['SalePrice'].values "
   ]
  },
  {
   "cell_type": "code",
   "execution_count": 75,
   "id": "9fe9eab2",
   "metadata": {},
   "outputs": [
    {
     "data": {
      "text/plain": [
       "array([208500, 181500, 223500, ..., 266500, 142125, 147500], dtype=int64)"
      ]
     },
     "execution_count": 75,
     "metadata": {},
     "output_type": "execute_result"
    }
   ],
   "source": [
    "DV"
   ]
  },
  {
   "cell_type": "code",
   "execution_count": 76,
   "id": "0f5558f4",
   "metadata": {},
   "outputs": [
    {
     "data": {
      "text/html": [
       "<div>\n",
       "<style scoped>\n",
       "    .dataframe tbody tr th:only-of-type {\n",
       "        vertical-align: middle;\n",
       "    }\n",
       "\n",
       "    .dataframe tbody tr th {\n",
       "        vertical-align: top;\n",
       "    }\n",
       "\n",
       "    .dataframe thead th {\n",
       "        text-align: right;\n",
       "    }\n",
       "</style>\n",
       "<table border=\"1\" class=\"dataframe\">\n",
       "  <thead>\n",
       "    <tr style=\"text-align: right;\">\n",
       "      <th></th>\n",
       "      <th>Id</th>\n",
       "      <th>MSSubClass</th>\n",
       "      <th>MSZoning</th>\n",
       "      <th>LotArea</th>\n",
       "      <th>Street</th>\n",
       "      <th>LotShape</th>\n",
       "      <th>LandContour</th>\n",
       "      <th>Utilities</th>\n",
       "      <th>LotConfig</th>\n",
       "      <th>LandSlope</th>\n",
       "      <th>...</th>\n",
       "      <th>OpenPorchSF</th>\n",
       "      <th>EnclosedPorch</th>\n",
       "      <th>3SsnPorch</th>\n",
       "      <th>ScreenPorch</th>\n",
       "      <th>PoolArea</th>\n",
       "      <th>MiscVal</th>\n",
       "      <th>MoSold</th>\n",
       "      <th>YrSold</th>\n",
       "      <th>SaleType</th>\n",
       "      <th>SaleCondition</th>\n",
       "    </tr>\n",
       "  </thead>\n",
       "  <tbody>\n",
       "    <tr>\n",
       "      <th>0</th>\n",
       "      <td>1</td>\n",
       "      <td>60</td>\n",
       "      <td>RL</td>\n",
       "      <td>8450</td>\n",
       "      <td>Pave</td>\n",
       "      <td>Reg</td>\n",
       "      <td>Lvl</td>\n",
       "      <td>AllPub</td>\n",
       "      <td>Inside</td>\n",
       "      <td>Gtl</td>\n",
       "      <td>...</td>\n",
       "      <td>61</td>\n",
       "      <td>0</td>\n",
       "      <td>0</td>\n",
       "      <td>0</td>\n",
       "      <td>0</td>\n",
       "      <td>0</td>\n",
       "      <td>2</td>\n",
       "      <td>2008</td>\n",
       "      <td>WD</td>\n",
       "      <td>Normal</td>\n",
       "    </tr>\n",
       "    <tr>\n",
       "      <th>1</th>\n",
       "      <td>2</td>\n",
       "      <td>20</td>\n",
       "      <td>RL</td>\n",
       "      <td>9600</td>\n",
       "      <td>Pave</td>\n",
       "      <td>Reg</td>\n",
       "      <td>Lvl</td>\n",
       "      <td>AllPub</td>\n",
       "      <td>FR2</td>\n",
       "      <td>Gtl</td>\n",
       "      <td>...</td>\n",
       "      <td>0</td>\n",
       "      <td>0</td>\n",
       "      <td>0</td>\n",
       "      <td>0</td>\n",
       "      <td>0</td>\n",
       "      <td>0</td>\n",
       "      <td>5</td>\n",
       "      <td>2007</td>\n",
       "      <td>WD</td>\n",
       "      <td>Normal</td>\n",
       "    </tr>\n",
       "    <tr>\n",
       "      <th>2</th>\n",
       "      <td>3</td>\n",
       "      <td>60</td>\n",
       "      <td>RL</td>\n",
       "      <td>11250</td>\n",
       "      <td>Pave</td>\n",
       "      <td>IR1</td>\n",
       "      <td>Lvl</td>\n",
       "      <td>AllPub</td>\n",
       "      <td>Inside</td>\n",
       "      <td>Gtl</td>\n",
       "      <td>...</td>\n",
       "      <td>42</td>\n",
       "      <td>0</td>\n",
       "      <td>0</td>\n",
       "      <td>0</td>\n",
       "      <td>0</td>\n",
       "      <td>0</td>\n",
       "      <td>9</td>\n",
       "      <td>2008</td>\n",
       "      <td>WD</td>\n",
       "      <td>Normal</td>\n",
       "    </tr>\n",
       "    <tr>\n",
       "      <th>3</th>\n",
       "      <td>4</td>\n",
       "      <td>70</td>\n",
       "      <td>RL</td>\n",
       "      <td>9550</td>\n",
       "      <td>Pave</td>\n",
       "      <td>IR1</td>\n",
       "      <td>Lvl</td>\n",
       "      <td>AllPub</td>\n",
       "      <td>Corner</td>\n",
       "      <td>Gtl</td>\n",
       "      <td>...</td>\n",
       "      <td>35</td>\n",
       "      <td>272</td>\n",
       "      <td>0</td>\n",
       "      <td>0</td>\n",
       "      <td>0</td>\n",
       "      <td>0</td>\n",
       "      <td>2</td>\n",
       "      <td>2006</td>\n",
       "      <td>WD</td>\n",
       "      <td>Abnorml</td>\n",
       "    </tr>\n",
       "    <tr>\n",
       "      <th>4</th>\n",
       "      <td>5</td>\n",
       "      <td>60</td>\n",
       "      <td>RL</td>\n",
       "      <td>14260</td>\n",
       "      <td>Pave</td>\n",
       "      <td>IR1</td>\n",
       "      <td>Lvl</td>\n",
       "      <td>AllPub</td>\n",
       "      <td>FR2</td>\n",
       "      <td>Gtl</td>\n",
       "      <td>...</td>\n",
       "      <td>84</td>\n",
       "      <td>0</td>\n",
       "      <td>0</td>\n",
       "      <td>0</td>\n",
       "      <td>0</td>\n",
       "      <td>0</td>\n",
       "      <td>12</td>\n",
       "      <td>2008</td>\n",
       "      <td>WD</td>\n",
       "      <td>Normal</td>\n",
       "    </tr>\n",
       "    <tr>\n",
       "      <th>...</th>\n",
       "      <td>...</td>\n",
       "      <td>...</td>\n",
       "      <td>...</td>\n",
       "      <td>...</td>\n",
       "      <td>...</td>\n",
       "      <td>...</td>\n",
       "      <td>...</td>\n",
       "      <td>...</td>\n",
       "      <td>...</td>\n",
       "      <td>...</td>\n",
       "      <td>...</td>\n",
       "      <td>...</td>\n",
       "      <td>...</td>\n",
       "      <td>...</td>\n",
       "      <td>...</td>\n",
       "      <td>...</td>\n",
       "      <td>...</td>\n",
       "      <td>...</td>\n",
       "      <td>...</td>\n",
       "      <td>...</td>\n",
       "      <td>...</td>\n",
       "    </tr>\n",
       "    <tr>\n",
       "      <th>1455</th>\n",
       "      <td>1456</td>\n",
       "      <td>60</td>\n",
       "      <td>RL</td>\n",
       "      <td>7917</td>\n",
       "      <td>Pave</td>\n",
       "      <td>Reg</td>\n",
       "      <td>Lvl</td>\n",
       "      <td>AllPub</td>\n",
       "      <td>Inside</td>\n",
       "      <td>Gtl</td>\n",
       "      <td>...</td>\n",
       "      <td>40</td>\n",
       "      <td>0</td>\n",
       "      <td>0</td>\n",
       "      <td>0</td>\n",
       "      <td>0</td>\n",
       "      <td>0</td>\n",
       "      <td>8</td>\n",
       "      <td>2007</td>\n",
       "      <td>WD</td>\n",
       "      <td>Normal</td>\n",
       "    </tr>\n",
       "    <tr>\n",
       "      <th>1456</th>\n",
       "      <td>1457</td>\n",
       "      <td>20</td>\n",
       "      <td>RL</td>\n",
       "      <td>13175</td>\n",
       "      <td>Pave</td>\n",
       "      <td>Reg</td>\n",
       "      <td>Lvl</td>\n",
       "      <td>AllPub</td>\n",
       "      <td>Inside</td>\n",
       "      <td>Gtl</td>\n",
       "      <td>...</td>\n",
       "      <td>0</td>\n",
       "      <td>0</td>\n",
       "      <td>0</td>\n",
       "      <td>0</td>\n",
       "      <td>0</td>\n",
       "      <td>0</td>\n",
       "      <td>2</td>\n",
       "      <td>2010</td>\n",
       "      <td>WD</td>\n",
       "      <td>Normal</td>\n",
       "    </tr>\n",
       "    <tr>\n",
       "      <th>1457</th>\n",
       "      <td>1458</td>\n",
       "      <td>70</td>\n",
       "      <td>RL</td>\n",
       "      <td>9042</td>\n",
       "      <td>Pave</td>\n",
       "      <td>Reg</td>\n",
       "      <td>Lvl</td>\n",
       "      <td>AllPub</td>\n",
       "      <td>Inside</td>\n",
       "      <td>Gtl</td>\n",
       "      <td>...</td>\n",
       "      <td>60</td>\n",
       "      <td>0</td>\n",
       "      <td>0</td>\n",
       "      <td>0</td>\n",
       "      <td>0</td>\n",
       "      <td>2500</td>\n",
       "      <td>5</td>\n",
       "      <td>2010</td>\n",
       "      <td>WD</td>\n",
       "      <td>Normal</td>\n",
       "    </tr>\n",
       "    <tr>\n",
       "      <th>1458</th>\n",
       "      <td>1459</td>\n",
       "      <td>20</td>\n",
       "      <td>RL</td>\n",
       "      <td>9717</td>\n",
       "      <td>Pave</td>\n",
       "      <td>Reg</td>\n",
       "      <td>Lvl</td>\n",
       "      <td>AllPub</td>\n",
       "      <td>Inside</td>\n",
       "      <td>Gtl</td>\n",
       "      <td>...</td>\n",
       "      <td>0</td>\n",
       "      <td>112</td>\n",
       "      <td>0</td>\n",
       "      <td>0</td>\n",
       "      <td>0</td>\n",
       "      <td>0</td>\n",
       "      <td>4</td>\n",
       "      <td>2010</td>\n",
       "      <td>WD</td>\n",
       "      <td>Normal</td>\n",
       "    </tr>\n",
       "    <tr>\n",
       "      <th>1459</th>\n",
       "      <td>1460</td>\n",
       "      <td>20</td>\n",
       "      <td>RL</td>\n",
       "      <td>9937</td>\n",
       "      <td>Pave</td>\n",
       "      <td>Reg</td>\n",
       "      <td>Lvl</td>\n",
       "      <td>AllPub</td>\n",
       "      <td>Inside</td>\n",
       "      <td>Gtl</td>\n",
       "      <td>...</td>\n",
       "      <td>68</td>\n",
       "      <td>0</td>\n",
       "      <td>0</td>\n",
       "      <td>0</td>\n",
       "      <td>0</td>\n",
       "      <td>0</td>\n",
       "      <td>6</td>\n",
       "      <td>2008</td>\n",
       "      <td>WD</td>\n",
       "      <td>Normal</td>\n",
       "    </tr>\n",
       "  </tbody>\n",
       "</table>\n",
       "<p>1460 rows × 61 columns</p>\n",
       "</div>"
      ],
      "text/plain": [
       "        Id  MSSubClass MSZoning  LotArea Street LotShape LandContour  \\\n",
       "0        1          60       RL     8450   Pave      Reg         Lvl   \n",
       "1        2          20       RL     9600   Pave      Reg         Lvl   \n",
       "2        3          60       RL    11250   Pave      IR1         Lvl   \n",
       "3        4          70       RL     9550   Pave      IR1         Lvl   \n",
       "4        5          60       RL    14260   Pave      IR1         Lvl   \n",
       "...    ...         ...      ...      ...    ...      ...         ...   \n",
       "1455  1456          60       RL     7917   Pave      Reg         Lvl   \n",
       "1456  1457          20       RL    13175   Pave      Reg         Lvl   \n",
       "1457  1458          70       RL     9042   Pave      Reg         Lvl   \n",
       "1458  1459          20       RL     9717   Pave      Reg         Lvl   \n",
       "1459  1460          20       RL     9937   Pave      Reg         Lvl   \n",
       "\n",
       "     Utilities LotConfig LandSlope  ... OpenPorchSF EnclosedPorch 3SsnPorch  \\\n",
       "0       AllPub    Inside       Gtl  ...          61             0         0   \n",
       "1       AllPub       FR2       Gtl  ...           0             0         0   \n",
       "2       AllPub    Inside       Gtl  ...          42             0         0   \n",
       "3       AllPub    Corner       Gtl  ...          35           272         0   \n",
       "4       AllPub       FR2       Gtl  ...          84             0         0   \n",
       "...        ...       ...       ...  ...         ...           ...       ...   \n",
       "1455    AllPub    Inside       Gtl  ...          40             0         0   \n",
       "1456    AllPub    Inside       Gtl  ...           0             0         0   \n",
       "1457    AllPub    Inside       Gtl  ...          60             0         0   \n",
       "1458    AllPub    Inside       Gtl  ...           0           112         0   \n",
       "1459    AllPub    Inside       Gtl  ...          68             0         0   \n",
       "\n",
       "     ScreenPorch PoolArea  MiscVal  MoSold  YrSold  SaleType SaleCondition  \n",
       "0              0        0        0       2    2008        WD        Normal  \n",
       "1              0        0        0       5    2007        WD        Normal  \n",
       "2              0        0        0       9    2008        WD        Normal  \n",
       "3              0        0        0       2    2006        WD       Abnorml  \n",
       "4              0        0        0      12    2008        WD        Normal  \n",
       "...          ...      ...      ...     ...     ...       ...           ...  \n",
       "1455           0        0        0       8    2007        WD        Normal  \n",
       "1456           0        0        0       2    2010        WD        Normal  \n",
       "1457           0        0     2500       5    2010        WD        Normal  \n",
       "1458           0        0        0       4    2010        WD        Normal  \n",
       "1459           0        0        0       6    2008        WD        Normal  \n",
       "\n",
       "[1460 rows x 61 columns]"
      ]
     },
     "execution_count": 76,
     "metadata": {},
     "output_type": "execute_result"
    }
   ],
   "source": [
    "df1"
   ]
  },
  {
   "cell_type": "code",
   "execution_count": 77,
   "id": "a8302de2",
   "metadata": {},
   "outputs": [
    {
     "name": "stdout",
     "output_type": "stream",
     "text": [
      "<class 'pandas.core.frame.DataFrame'>\n",
      "RangeIndex: 1460 entries, 0 to 1459\n",
      "Data columns (total 61 columns):\n",
      " #   Column         Non-Null Count  Dtype \n",
      "---  ------         --------------  ----- \n",
      " 0   Id             1460 non-null   int64 \n",
      " 1   MSSubClass     1460 non-null   int64 \n",
      " 2   MSZoning       1460 non-null   object\n",
      " 3   LotArea        1460 non-null   int64 \n",
      " 4   Street         1460 non-null   object\n",
      " 5   LotShape       1460 non-null   object\n",
      " 6   LandContour    1460 non-null   object\n",
      " 7   Utilities      1460 non-null   object\n",
      " 8   LotConfig      1460 non-null   object\n",
      " 9   LandSlope      1460 non-null   object\n",
      " 10  Neighborhood   1460 non-null   object\n",
      " 11  Condition1     1460 non-null   object\n",
      " 12  Condition2     1460 non-null   object\n",
      " 13  BldgType       1460 non-null   object\n",
      " 14  HouseStyle     1460 non-null   object\n",
      " 15  OverallQual    1460 non-null   int64 \n",
      " 16  OverallCond    1460 non-null   int64 \n",
      " 17  YearBuilt      1460 non-null   int64 \n",
      " 18  YearRemodAdd   1460 non-null   int64 \n",
      " 19  RoofStyle      1460 non-null   object\n",
      " 20  RoofMatl       1460 non-null   object\n",
      " 21  Exterior1st    1460 non-null   object\n",
      " 22  Exterior2nd    1460 non-null   object\n",
      " 23  ExterQual      1460 non-null   object\n",
      " 24  ExterCond      1460 non-null   object\n",
      " 25  Foundation     1460 non-null   object\n",
      " 26  BsmtFinSF1     1460 non-null   int64 \n",
      " 27  BsmtFinSF2     1460 non-null   int64 \n",
      " 28  BsmtUnfSF      1460 non-null   int64 \n",
      " 29  TotalBsmtSF    1460 non-null   int64 \n",
      " 30  Heating        1460 non-null   object\n",
      " 31  HeatingQC      1460 non-null   object\n",
      " 32  CentralAir     1460 non-null   object\n",
      " 33  1stFlrSF       1460 non-null   int64 \n",
      " 34  2ndFlrSF       1460 non-null   int64 \n",
      " 35  LowQualFinSF   1460 non-null   int64 \n",
      " 36  GrLivArea      1460 non-null   int64 \n",
      " 37  BsmtFullBath   1460 non-null   int64 \n",
      " 38  BsmtHalfBath   1460 non-null   int64 \n",
      " 39  FullBath       1460 non-null   int64 \n",
      " 40  HalfBath       1460 non-null   int64 \n",
      " 41  BedroomAbvGr   1460 non-null   int64 \n",
      " 42  KitchenAbvGr   1460 non-null   int64 \n",
      " 43  KitchenQual    1460 non-null   object\n",
      " 44  TotRmsAbvGrd   1460 non-null   int64 \n",
      " 45  Functional     1460 non-null   object\n",
      " 46  Fireplaces     1460 non-null   int64 \n",
      " 47  GarageCars     1460 non-null   int64 \n",
      " 48  GarageArea     1460 non-null   int64 \n",
      " 49  PavedDrive     1460 non-null   object\n",
      " 50  WoodDeckSF     1460 non-null   int64 \n",
      " 51  OpenPorchSF    1460 non-null   int64 \n",
      " 52  EnclosedPorch  1460 non-null   int64 \n",
      " 53  3SsnPorch      1460 non-null   int64 \n",
      " 54  ScreenPorch    1460 non-null   int64 \n",
      " 55  PoolArea       1460 non-null   int64 \n",
      " 56  MiscVal        1460 non-null   int64 \n",
      " 57  MoSold         1460 non-null   int64 \n",
      " 58  YrSold         1460 non-null   int64 \n",
      " 59  SaleType       1460 non-null   object\n",
      " 60  SaleCondition  1460 non-null   object\n",
      "dtypes: int64(34), object(27)\n",
      "memory usage: 695.9+ KB\n"
     ]
    }
   ],
   "source": [
    "df1.info()"
   ]
  },
  {
   "cell_type": "code",
   "execution_count": 78,
   "id": "065997c9",
   "metadata": {},
   "outputs": [],
   "source": [
    "#Removing Object Data Type"
   ]
  },
  {
   "cell_type": "code",
   "execution_count": 79,
   "id": "cc37d08d",
   "metadata": {},
   "outputs": [],
   "source": [
    "data = df1.select_dtypes(include=['int64'])"
   ]
  },
  {
   "cell_type": "code",
   "execution_count": 80,
   "id": "b80c92f1",
   "metadata": {},
   "outputs": [
    {
     "data": {
      "text/html": [
       "<div>\n",
       "<style scoped>\n",
       "    .dataframe tbody tr th:only-of-type {\n",
       "        vertical-align: middle;\n",
       "    }\n",
       "\n",
       "    .dataframe tbody tr th {\n",
       "        vertical-align: top;\n",
       "    }\n",
       "\n",
       "    .dataframe thead th {\n",
       "        text-align: right;\n",
       "    }\n",
       "</style>\n",
       "<table border=\"1\" class=\"dataframe\">\n",
       "  <thead>\n",
       "    <tr style=\"text-align: right;\">\n",
       "      <th></th>\n",
       "      <th>Id</th>\n",
       "      <th>MSSubClass</th>\n",
       "      <th>LotArea</th>\n",
       "      <th>OverallQual</th>\n",
       "      <th>OverallCond</th>\n",
       "      <th>YearBuilt</th>\n",
       "      <th>YearRemodAdd</th>\n",
       "      <th>BsmtFinSF1</th>\n",
       "      <th>BsmtFinSF2</th>\n",
       "      <th>BsmtUnfSF</th>\n",
       "      <th>...</th>\n",
       "      <th>GarageArea</th>\n",
       "      <th>WoodDeckSF</th>\n",
       "      <th>OpenPorchSF</th>\n",
       "      <th>EnclosedPorch</th>\n",
       "      <th>3SsnPorch</th>\n",
       "      <th>ScreenPorch</th>\n",
       "      <th>PoolArea</th>\n",
       "      <th>MiscVal</th>\n",
       "      <th>MoSold</th>\n",
       "      <th>YrSold</th>\n",
       "    </tr>\n",
       "  </thead>\n",
       "  <tbody>\n",
       "    <tr>\n",
       "      <th>0</th>\n",
       "      <td>1</td>\n",
       "      <td>60</td>\n",
       "      <td>8450</td>\n",
       "      <td>7</td>\n",
       "      <td>5</td>\n",
       "      <td>2003</td>\n",
       "      <td>2003</td>\n",
       "      <td>706</td>\n",
       "      <td>0</td>\n",
       "      <td>150</td>\n",
       "      <td>...</td>\n",
       "      <td>548</td>\n",
       "      <td>0</td>\n",
       "      <td>61</td>\n",
       "      <td>0</td>\n",
       "      <td>0</td>\n",
       "      <td>0</td>\n",
       "      <td>0</td>\n",
       "      <td>0</td>\n",
       "      <td>2</td>\n",
       "      <td>2008</td>\n",
       "    </tr>\n",
       "    <tr>\n",
       "      <th>1</th>\n",
       "      <td>2</td>\n",
       "      <td>20</td>\n",
       "      <td>9600</td>\n",
       "      <td>6</td>\n",
       "      <td>8</td>\n",
       "      <td>1976</td>\n",
       "      <td>1976</td>\n",
       "      <td>978</td>\n",
       "      <td>0</td>\n",
       "      <td>284</td>\n",
       "      <td>...</td>\n",
       "      <td>460</td>\n",
       "      <td>298</td>\n",
       "      <td>0</td>\n",
       "      <td>0</td>\n",
       "      <td>0</td>\n",
       "      <td>0</td>\n",
       "      <td>0</td>\n",
       "      <td>0</td>\n",
       "      <td>5</td>\n",
       "      <td>2007</td>\n",
       "    </tr>\n",
       "    <tr>\n",
       "      <th>2</th>\n",
       "      <td>3</td>\n",
       "      <td>60</td>\n",
       "      <td>11250</td>\n",
       "      <td>7</td>\n",
       "      <td>5</td>\n",
       "      <td>2001</td>\n",
       "      <td>2002</td>\n",
       "      <td>486</td>\n",
       "      <td>0</td>\n",
       "      <td>434</td>\n",
       "      <td>...</td>\n",
       "      <td>608</td>\n",
       "      <td>0</td>\n",
       "      <td>42</td>\n",
       "      <td>0</td>\n",
       "      <td>0</td>\n",
       "      <td>0</td>\n",
       "      <td>0</td>\n",
       "      <td>0</td>\n",
       "      <td>9</td>\n",
       "      <td>2008</td>\n",
       "    </tr>\n",
       "    <tr>\n",
       "      <th>3</th>\n",
       "      <td>4</td>\n",
       "      <td>70</td>\n",
       "      <td>9550</td>\n",
       "      <td>7</td>\n",
       "      <td>5</td>\n",
       "      <td>1915</td>\n",
       "      <td>1970</td>\n",
       "      <td>216</td>\n",
       "      <td>0</td>\n",
       "      <td>540</td>\n",
       "      <td>...</td>\n",
       "      <td>642</td>\n",
       "      <td>0</td>\n",
       "      <td>35</td>\n",
       "      <td>272</td>\n",
       "      <td>0</td>\n",
       "      <td>0</td>\n",
       "      <td>0</td>\n",
       "      <td>0</td>\n",
       "      <td>2</td>\n",
       "      <td>2006</td>\n",
       "    </tr>\n",
       "    <tr>\n",
       "      <th>4</th>\n",
       "      <td>5</td>\n",
       "      <td>60</td>\n",
       "      <td>14260</td>\n",
       "      <td>8</td>\n",
       "      <td>5</td>\n",
       "      <td>2000</td>\n",
       "      <td>2000</td>\n",
       "      <td>655</td>\n",
       "      <td>0</td>\n",
       "      <td>490</td>\n",
       "      <td>...</td>\n",
       "      <td>836</td>\n",
       "      <td>192</td>\n",
       "      <td>84</td>\n",
       "      <td>0</td>\n",
       "      <td>0</td>\n",
       "      <td>0</td>\n",
       "      <td>0</td>\n",
       "      <td>0</td>\n",
       "      <td>12</td>\n",
       "      <td>2008</td>\n",
       "    </tr>\n",
       "    <tr>\n",
       "      <th>...</th>\n",
       "      <td>...</td>\n",
       "      <td>...</td>\n",
       "      <td>...</td>\n",
       "      <td>...</td>\n",
       "      <td>...</td>\n",
       "      <td>...</td>\n",
       "      <td>...</td>\n",
       "      <td>...</td>\n",
       "      <td>...</td>\n",
       "      <td>...</td>\n",
       "      <td>...</td>\n",
       "      <td>...</td>\n",
       "      <td>...</td>\n",
       "      <td>...</td>\n",
       "      <td>...</td>\n",
       "      <td>...</td>\n",
       "      <td>...</td>\n",
       "      <td>...</td>\n",
       "      <td>...</td>\n",
       "      <td>...</td>\n",
       "      <td>...</td>\n",
       "    </tr>\n",
       "    <tr>\n",
       "      <th>1455</th>\n",
       "      <td>1456</td>\n",
       "      <td>60</td>\n",
       "      <td>7917</td>\n",
       "      <td>6</td>\n",
       "      <td>5</td>\n",
       "      <td>1999</td>\n",
       "      <td>2000</td>\n",
       "      <td>0</td>\n",
       "      <td>0</td>\n",
       "      <td>953</td>\n",
       "      <td>...</td>\n",
       "      <td>460</td>\n",
       "      <td>0</td>\n",
       "      <td>40</td>\n",
       "      <td>0</td>\n",
       "      <td>0</td>\n",
       "      <td>0</td>\n",
       "      <td>0</td>\n",
       "      <td>0</td>\n",
       "      <td>8</td>\n",
       "      <td>2007</td>\n",
       "    </tr>\n",
       "    <tr>\n",
       "      <th>1456</th>\n",
       "      <td>1457</td>\n",
       "      <td>20</td>\n",
       "      <td>13175</td>\n",
       "      <td>6</td>\n",
       "      <td>6</td>\n",
       "      <td>1978</td>\n",
       "      <td>1988</td>\n",
       "      <td>790</td>\n",
       "      <td>163</td>\n",
       "      <td>589</td>\n",
       "      <td>...</td>\n",
       "      <td>500</td>\n",
       "      <td>349</td>\n",
       "      <td>0</td>\n",
       "      <td>0</td>\n",
       "      <td>0</td>\n",
       "      <td>0</td>\n",
       "      <td>0</td>\n",
       "      <td>0</td>\n",
       "      <td>2</td>\n",
       "      <td>2010</td>\n",
       "    </tr>\n",
       "    <tr>\n",
       "      <th>1457</th>\n",
       "      <td>1458</td>\n",
       "      <td>70</td>\n",
       "      <td>9042</td>\n",
       "      <td>7</td>\n",
       "      <td>9</td>\n",
       "      <td>1941</td>\n",
       "      <td>2006</td>\n",
       "      <td>275</td>\n",
       "      <td>0</td>\n",
       "      <td>877</td>\n",
       "      <td>...</td>\n",
       "      <td>252</td>\n",
       "      <td>0</td>\n",
       "      <td>60</td>\n",
       "      <td>0</td>\n",
       "      <td>0</td>\n",
       "      <td>0</td>\n",
       "      <td>0</td>\n",
       "      <td>2500</td>\n",
       "      <td>5</td>\n",
       "      <td>2010</td>\n",
       "    </tr>\n",
       "    <tr>\n",
       "      <th>1458</th>\n",
       "      <td>1459</td>\n",
       "      <td>20</td>\n",
       "      <td>9717</td>\n",
       "      <td>5</td>\n",
       "      <td>6</td>\n",
       "      <td>1950</td>\n",
       "      <td>1996</td>\n",
       "      <td>49</td>\n",
       "      <td>1029</td>\n",
       "      <td>0</td>\n",
       "      <td>...</td>\n",
       "      <td>240</td>\n",
       "      <td>366</td>\n",
       "      <td>0</td>\n",
       "      <td>112</td>\n",
       "      <td>0</td>\n",
       "      <td>0</td>\n",
       "      <td>0</td>\n",
       "      <td>0</td>\n",
       "      <td>4</td>\n",
       "      <td>2010</td>\n",
       "    </tr>\n",
       "    <tr>\n",
       "      <th>1459</th>\n",
       "      <td>1460</td>\n",
       "      <td>20</td>\n",
       "      <td>9937</td>\n",
       "      <td>5</td>\n",
       "      <td>6</td>\n",
       "      <td>1965</td>\n",
       "      <td>1965</td>\n",
       "      <td>830</td>\n",
       "      <td>290</td>\n",
       "      <td>136</td>\n",
       "      <td>...</td>\n",
       "      <td>276</td>\n",
       "      <td>736</td>\n",
       "      <td>68</td>\n",
       "      <td>0</td>\n",
       "      <td>0</td>\n",
       "      <td>0</td>\n",
       "      <td>0</td>\n",
       "      <td>0</td>\n",
       "      <td>6</td>\n",
       "      <td>2008</td>\n",
       "    </tr>\n",
       "  </tbody>\n",
       "</table>\n",
       "<p>1460 rows × 34 columns</p>\n",
       "</div>"
      ],
      "text/plain": [
       "        Id  MSSubClass  LotArea  OverallQual  OverallCond  YearBuilt  \\\n",
       "0        1          60     8450            7            5       2003   \n",
       "1        2          20     9600            6            8       1976   \n",
       "2        3          60    11250            7            5       2001   \n",
       "3        4          70     9550            7            5       1915   \n",
       "4        5          60    14260            8            5       2000   \n",
       "...    ...         ...      ...          ...          ...        ...   \n",
       "1455  1456          60     7917            6            5       1999   \n",
       "1456  1457          20    13175            6            6       1978   \n",
       "1457  1458          70     9042            7            9       1941   \n",
       "1458  1459          20     9717            5            6       1950   \n",
       "1459  1460          20     9937            5            6       1965   \n",
       "\n",
       "      YearRemodAdd  BsmtFinSF1  BsmtFinSF2  BsmtUnfSF  ...  GarageArea  \\\n",
       "0             2003         706           0        150  ...         548   \n",
       "1             1976         978           0        284  ...         460   \n",
       "2             2002         486           0        434  ...         608   \n",
       "3             1970         216           0        540  ...         642   \n",
       "4             2000         655           0        490  ...         836   \n",
       "...            ...         ...         ...        ...  ...         ...   \n",
       "1455          2000           0           0        953  ...         460   \n",
       "1456          1988         790         163        589  ...         500   \n",
       "1457          2006         275           0        877  ...         252   \n",
       "1458          1996          49        1029          0  ...         240   \n",
       "1459          1965         830         290        136  ...         276   \n",
       "\n",
       "      WoodDeckSF  OpenPorchSF  EnclosedPorch  3SsnPorch  ScreenPorch  \\\n",
       "0              0           61              0          0            0   \n",
       "1            298            0              0          0            0   \n",
       "2              0           42              0          0            0   \n",
       "3              0           35            272          0            0   \n",
       "4            192           84              0          0            0   \n",
       "...          ...          ...            ...        ...          ...   \n",
       "1455           0           40              0          0            0   \n",
       "1456         349            0              0          0            0   \n",
       "1457           0           60              0          0            0   \n",
       "1458         366            0            112          0            0   \n",
       "1459         736           68              0          0            0   \n",
       "\n",
       "      PoolArea  MiscVal  MoSold  YrSold  \n",
       "0            0        0       2    2008  \n",
       "1            0        0       5    2007  \n",
       "2            0        0       9    2008  \n",
       "3            0        0       2    2006  \n",
       "4            0        0      12    2008  \n",
       "...        ...      ...     ...     ...  \n",
       "1455         0        0       8    2007  \n",
       "1456         0        0       2    2010  \n",
       "1457         0     2500       5    2010  \n",
       "1458         0        0       4    2010  \n",
       "1459         0        0       6    2008  \n",
       "\n",
       "[1460 rows x 34 columns]"
      ]
     },
     "execution_count": 80,
     "metadata": {},
     "output_type": "execute_result"
    }
   ],
   "source": [
    "data"
   ]
  },
  {
   "cell_type": "code",
   "execution_count": 81,
   "id": "65031e96",
   "metadata": {},
   "outputs": [],
   "source": [
    "#Now left with 34 columns"
   ]
  },
  {
   "cell_type": "code",
   "execution_count": 82,
   "id": "91f797a3",
   "metadata": {},
   "outputs": [
    {
     "name": "stdout",
     "output_type": "stream",
     "text": [
      "<class 'pandas.core.frame.DataFrame'>\n",
      "RangeIndex: 1460 entries, 0 to 1459\n",
      "Data columns (total 34 columns):\n",
      " #   Column         Non-Null Count  Dtype\n",
      "---  ------         --------------  -----\n",
      " 0   Id             1460 non-null   int64\n",
      " 1   MSSubClass     1460 non-null   int64\n",
      " 2   LotArea        1460 non-null   int64\n",
      " 3   OverallQual    1460 non-null   int64\n",
      " 4   OverallCond    1460 non-null   int64\n",
      " 5   YearBuilt      1460 non-null   int64\n",
      " 6   YearRemodAdd   1460 non-null   int64\n",
      " 7   BsmtFinSF1     1460 non-null   int64\n",
      " 8   BsmtFinSF2     1460 non-null   int64\n",
      " 9   BsmtUnfSF      1460 non-null   int64\n",
      " 10  TotalBsmtSF    1460 non-null   int64\n",
      " 11  1stFlrSF       1460 non-null   int64\n",
      " 12  2ndFlrSF       1460 non-null   int64\n",
      " 13  LowQualFinSF   1460 non-null   int64\n",
      " 14  GrLivArea      1460 non-null   int64\n",
      " 15  BsmtFullBath   1460 non-null   int64\n",
      " 16  BsmtHalfBath   1460 non-null   int64\n",
      " 17  FullBath       1460 non-null   int64\n",
      " 18  HalfBath       1460 non-null   int64\n",
      " 19  BedroomAbvGr   1460 non-null   int64\n",
      " 20  KitchenAbvGr   1460 non-null   int64\n",
      " 21  TotRmsAbvGrd   1460 non-null   int64\n",
      " 22  Fireplaces     1460 non-null   int64\n",
      " 23  GarageCars     1460 non-null   int64\n",
      " 24  GarageArea     1460 non-null   int64\n",
      " 25  WoodDeckSF     1460 non-null   int64\n",
      " 26  OpenPorchSF    1460 non-null   int64\n",
      " 27  EnclosedPorch  1460 non-null   int64\n",
      " 28  3SsnPorch      1460 non-null   int64\n",
      " 29  ScreenPorch    1460 non-null   int64\n",
      " 30  PoolArea       1460 non-null   int64\n",
      " 31  MiscVal        1460 non-null   int64\n",
      " 32  MoSold         1460 non-null   int64\n",
      " 33  YrSold         1460 non-null   int64\n",
      "dtypes: int64(34)\n",
      "memory usage: 387.9 KB\n"
     ]
    }
   ],
   "source": [
    "data.info()"
   ]
  },
  {
   "cell_type": "code",
   "execution_count": 83,
   "id": "d4874324",
   "metadata": {},
   "outputs": [
    {
     "data": {
      "text/plain": [
       "Id               0\n",
       "MSSubClass       0\n",
       "LotArea          0\n",
       "OverallQual      0\n",
       "OverallCond      0\n",
       "YearBuilt        0\n",
       "YearRemodAdd     0\n",
       "BsmtFinSF1       0\n",
       "BsmtFinSF2       0\n",
       "BsmtUnfSF        0\n",
       "TotalBsmtSF      0\n",
       "1stFlrSF         0\n",
       "2ndFlrSF         0\n",
       "LowQualFinSF     0\n",
       "GrLivArea        0\n",
       "BsmtFullBath     0\n",
       "BsmtHalfBath     0\n",
       "FullBath         0\n",
       "HalfBath         0\n",
       "BedroomAbvGr     0\n",
       "KitchenAbvGr     0\n",
       "TotRmsAbvGrd     0\n",
       "Fireplaces       0\n",
       "GarageCars       0\n",
       "GarageArea       0\n",
       "WoodDeckSF       0\n",
       "OpenPorchSF      0\n",
       "EnclosedPorch    0\n",
       "3SsnPorch        0\n",
       "ScreenPorch      0\n",
       "PoolArea         0\n",
       "MiscVal          0\n",
       "MoSold           0\n",
       "YrSold           0\n",
       "dtype: int64"
      ]
     },
     "execution_count": 83,
     "metadata": {},
     "output_type": "execute_result"
    }
   ],
   "source": [
    "data.isnull().sum()"
   ]
  },
  {
   "cell_type": "code",
   "execution_count": 84,
   "id": "d67a1e2d",
   "metadata": {},
   "outputs": [],
   "source": [
    "# Data Has no null values"
   ]
  },
  {
   "cell_type": "code",
   "execution_count": 85,
   "id": "397e210c",
   "metadata": {},
   "outputs": [
    {
     "data": {
      "text/plain": [
       "Index(['Id', 'MSSubClass', 'LotArea', 'OverallQual', 'OverallCond',\n",
       "       'YearBuilt', 'YearRemodAdd', 'BsmtFinSF1', 'BsmtFinSF2', 'BsmtUnfSF',\n",
       "       'TotalBsmtSF', '1stFlrSF', '2ndFlrSF', 'LowQualFinSF', 'GrLivArea',\n",
       "       'BsmtFullBath', 'BsmtHalfBath', 'FullBath', 'HalfBath', 'BedroomAbvGr',\n",
       "       'KitchenAbvGr', 'TotRmsAbvGrd', 'Fireplaces', 'GarageCars',\n",
       "       'GarageArea', 'WoodDeckSF', 'OpenPorchSF', 'EnclosedPorch', '3SsnPorch',\n",
       "       'ScreenPorch', 'PoolArea', 'MiscVal', 'MoSold', 'YrSold'],\n",
       "      dtype='object')"
      ]
     },
     "execution_count": 85,
     "metadata": {},
     "output_type": "execute_result"
    }
   ],
   "source": [
    "data.columns"
   ]
  },
  {
   "cell_type": "code",
   "execution_count": 86,
   "id": "cf61a4f2",
   "metadata": {},
   "outputs": [],
   "source": [
    "new_data2 = data.drop('Id',axis = 1)   "
   ]
  },
  {
   "cell_type": "code",
   "execution_count": 87,
   "id": "7b1e936d",
   "metadata": {},
   "outputs": [
    {
     "data": {
      "text/html": [
       "<div>\n",
       "<style scoped>\n",
       "    .dataframe tbody tr th:only-of-type {\n",
       "        vertical-align: middle;\n",
       "    }\n",
       "\n",
       "    .dataframe tbody tr th {\n",
       "        vertical-align: top;\n",
       "    }\n",
       "\n",
       "    .dataframe thead th {\n",
       "        text-align: right;\n",
       "    }\n",
       "</style>\n",
       "<table border=\"1\" class=\"dataframe\">\n",
       "  <thead>\n",
       "    <tr style=\"text-align: right;\">\n",
       "      <th></th>\n",
       "      <th>MSSubClass</th>\n",
       "      <th>LotArea</th>\n",
       "      <th>OverallQual</th>\n",
       "      <th>OverallCond</th>\n",
       "      <th>YearBuilt</th>\n",
       "      <th>YearRemodAdd</th>\n",
       "      <th>BsmtFinSF1</th>\n",
       "      <th>BsmtFinSF2</th>\n",
       "      <th>BsmtUnfSF</th>\n",
       "      <th>TotalBsmtSF</th>\n",
       "      <th>...</th>\n",
       "      <th>GarageArea</th>\n",
       "      <th>WoodDeckSF</th>\n",
       "      <th>OpenPorchSF</th>\n",
       "      <th>EnclosedPorch</th>\n",
       "      <th>3SsnPorch</th>\n",
       "      <th>ScreenPorch</th>\n",
       "      <th>PoolArea</th>\n",
       "      <th>MiscVal</th>\n",
       "      <th>MoSold</th>\n",
       "      <th>YrSold</th>\n",
       "    </tr>\n",
       "  </thead>\n",
       "  <tbody>\n",
       "    <tr>\n",
       "      <th>0</th>\n",
       "      <td>60</td>\n",
       "      <td>8450</td>\n",
       "      <td>7</td>\n",
       "      <td>5</td>\n",
       "      <td>2003</td>\n",
       "      <td>2003</td>\n",
       "      <td>706</td>\n",
       "      <td>0</td>\n",
       "      <td>150</td>\n",
       "      <td>856</td>\n",
       "      <td>...</td>\n",
       "      <td>548</td>\n",
       "      <td>0</td>\n",
       "      <td>61</td>\n",
       "      <td>0</td>\n",
       "      <td>0</td>\n",
       "      <td>0</td>\n",
       "      <td>0</td>\n",
       "      <td>0</td>\n",
       "      <td>2</td>\n",
       "      <td>2008</td>\n",
       "    </tr>\n",
       "    <tr>\n",
       "      <th>1</th>\n",
       "      <td>20</td>\n",
       "      <td>9600</td>\n",
       "      <td>6</td>\n",
       "      <td>8</td>\n",
       "      <td>1976</td>\n",
       "      <td>1976</td>\n",
       "      <td>978</td>\n",
       "      <td>0</td>\n",
       "      <td>284</td>\n",
       "      <td>1262</td>\n",
       "      <td>...</td>\n",
       "      <td>460</td>\n",
       "      <td>298</td>\n",
       "      <td>0</td>\n",
       "      <td>0</td>\n",
       "      <td>0</td>\n",
       "      <td>0</td>\n",
       "      <td>0</td>\n",
       "      <td>0</td>\n",
       "      <td>5</td>\n",
       "      <td>2007</td>\n",
       "    </tr>\n",
       "    <tr>\n",
       "      <th>2</th>\n",
       "      <td>60</td>\n",
       "      <td>11250</td>\n",
       "      <td>7</td>\n",
       "      <td>5</td>\n",
       "      <td>2001</td>\n",
       "      <td>2002</td>\n",
       "      <td>486</td>\n",
       "      <td>0</td>\n",
       "      <td>434</td>\n",
       "      <td>920</td>\n",
       "      <td>...</td>\n",
       "      <td>608</td>\n",
       "      <td>0</td>\n",
       "      <td>42</td>\n",
       "      <td>0</td>\n",
       "      <td>0</td>\n",
       "      <td>0</td>\n",
       "      <td>0</td>\n",
       "      <td>0</td>\n",
       "      <td>9</td>\n",
       "      <td>2008</td>\n",
       "    </tr>\n",
       "    <tr>\n",
       "      <th>3</th>\n",
       "      <td>70</td>\n",
       "      <td>9550</td>\n",
       "      <td>7</td>\n",
       "      <td>5</td>\n",
       "      <td>1915</td>\n",
       "      <td>1970</td>\n",
       "      <td>216</td>\n",
       "      <td>0</td>\n",
       "      <td>540</td>\n",
       "      <td>756</td>\n",
       "      <td>...</td>\n",
       "      <td>642</td>\n",
       "      <td>0</td>\n",
       "      <td>35</td>\n",
       "      <td>272</td>\n",
       "      <td>0</td>\n",
       "      <td>0</td>\n",
       "      <td>0</td>\n",
       "      <td>0</td>\n",
       "      <td>2</td>\n",
       "      <td>2006</td>\n",
       "    </tr>\n",
       "    <tr>\n",
       "      <th>4</th>\n",
       "      <td>60</td>\n",
       "      <td>14260</td>\n",
       "      <td>8</td>\n",
       "      <td>5</td>\n",
       "      <td>2000</td>\n",
       "      <td>2000</td>\n",
       "      <td>655</td>\n",
       "      <td>0</td>\n",
       "      <td>490</td>\n",
       "      <td>1145</td>\n",
       "      <td>...</td>\n",
       "      <td>836</td>\n",
       "      <td>192</td>\n",
       "      <td>84</td>\n",
       "      <td>0</td>\n",
       "      <td>0</td>\n",
       "      <td>0</td>\n",
       "      <td>0</td>\n",
       "      <td>0</td>\n",
       "      <td>12</td>\n",
       "      <td>2008</td>\n",
       "    </tr>\n",
       "    <tr>\n",
       "      <th>...</th>\n",
       "      <td>...</td>\n",
       "      <td>...</td>\n",
       "      <td>...</td>\n",
       "      <td>...</td>\n",
       "      <td>...</td>\n",
       "      <td>...</td>\n",
       "      <td>...</td>\n",
       "      <td>...</td>\n",
       "      <td>...</td>\n",
       "      <td>...</td>\n",
       "      <td>...</td>\n",
       "      <td>...</td>\n",
       "      <td>...</td>\n",
       "      <td>...</td>\n",
       "      <td>...</td>\n",
       "      <td>...</td>\n",
       "      <td>...</td>\n",
       "      <td>...</td>\n",
       "      <td>...</td>\n",
       "      <td>...</td>\n",
       "      <td>...</td>\n",
       "    </tr>\n",
       "    <tr>\n",
       "      <th>1455</th>\n",
       "      <td>60</td>\n",
       "      <td>7917</td>\n",
       "      <td>6</td>\n",
       "      <td>5</td>\n",
       "      <td>1999</td>\n",
       "      <td>2000</td>\n",
       "      <td>0</td>\n",
       "      <td>0</td>\n",
       "      <td>953</td>\n",
       "      <td>953</td>\n",
       "      <td>...</td>\n",
       "      <td>460</td>\n",
       "      <td>0</td>\n",
       "      <td>40</td>\n",
       "      <td>0</td>\n",
       "      <td>0</td>\n",
       "      <td>0</td>\n",
       "      <td>0</td>\n",
       "      <td>0</td>\n",
       "      <td>8</td>\n",
       "      <td>2007</td>\n",
       "    </tr>\n",
       "    <tr>\n",
       "      <th>1456</th>\n",
       "      <td>20</td>\n",
       "      <td>13175</td>\n",
       "      <td>6</td>\n",
       "      <td>6</td>\n",
       "      <td>1978</td>\n",
       "      <td>1988</td>\n",
       "      <td>790</td>\n",
       "      <td>163</td>\n",
       "      <td>589</td>\n",
       "      <td>1542</td>\n",
       "      <td>...</td>\n",
       "      <td>500</td>\n",
       "      <td>349</td>\n",
       "      <td>0</td>\n",
       "      <td>0</td>\n",
       "      <td>0</td>\n",
       "      <td>0</td>\n",
       "      <td>0</td>\n",
       "      <td>0</td>\n",
       "      <td>2</td>\n",
       "      <td>2010</td>\n",
       "    </tr>\n",
       "    <tr>\n",
       "      <th>1457</th>\n",
       "      <td>70</td>\n",
       "      <td>9042</td>\n",
       "      <td>7</td>\n",
       "      <td>9</td>\n",
       "      <td>1941</td>\n",
       "      <td>2006</td>\n",
       "      <td>275</td>\n",
       "      <td>0</td>\n",
       "      <td>877</td>\n",
       "      <td>1152</td>\n",
       "      <td>...</td>\n",
       "      <td>252</td>\n",
       "      <td>0</td>\n",
       "      <td>60</td>\n",
       "      <td>0</td>\n",
       "      <td>0</td>\n",
       "      <td>0</td>\n",
       "      <td>0</td>\n",
       "      <td>2500</td>\n",
       "      <td>5</td>\n",
       "      <td>2010</td>\n",
       "    </tr>\n",
       "    <tr>\n",
       "      <th>1458</th>\n",
       "      <td>20</td>\n",
       "      <td>9717</td>\n",
       "      <td>5</td>\n",
       "      <td>6</td>\n",
       "      <td>1950</td>\n",
       "      <td>1996</td>\n",
       "      <td>49</td>\n",
       "      <td>1029</td>\n",
       "      <td>0</td>\n",
       "      <td>1078</td>\n",
       "      <td>...</td>\n",
       "      <td>240</td>\n",
       "      <td>366</td>\n",
       "      <td>0</td>\n",
       "      <td>112</td>\n",
       "      <td>0</td>\n",
       "      <td>0</td>\n",
       "      <td>0</td>\n",
       "      <td>0</td>\n",
       "      <td>4</td>\n",
       "      <td>2010</td>\n",
       "    </tr>\n",
       "    <tr>\n",
       "      <th>1459</th>\n",
       "      <td>20</td>\n",
       "      <td>9937</td>\n",
       "      <td>5</td>\n",
       "      <td>6</td>\n",
       "      <td>1965</td>\n",
       "      <td>1965</td>\n",
       "      <td>830</td>\n",
       "      <td>290</td>\n",
       "      <td>136</td>\n",
       "      <td>1256</td>\n",
       "      <td>...</td>\n",
       "      <td>276</td>\n",
       "      <td>736</td>\n",
       "      <td>68</td>\n",
       "      <td>0</td>\n",
       "      <td>0</td>\n",
       "      <td>0</td>\n",
       "      <td>0</td>\n",
       "      <td>0</td>\n",
       "      <td>6</td>\n",
       "      <td>2008</td>\n",
       "    </tr>\n",
       "  </tbody>\n",
       "</table>\n",
       "<p>1460 rows × 33 columns</p>\n",
       "</div>"
      ],
      "text/plain": [
       "      MSSubClass  LotArea  OverallQual  OverallCond  YearBuilt  YearRemodAdd  \\\n",
       "0             60     8450            7            5       2003          2003   \n",
       "1             20     9600            6            8       1976          1976   \n",
       "2             60    11250            7            5       2001          2002   \n",
       "3             70     9550            7            5       1915          1970   \n",
       "4             60    14260            8            5       2000          2000   \n",
       "...          ...      ...          ...          ...        ...           ...   \n",
       "1455          60     7917            6            5       1999          2000   \n",
       "1456          20    13175            6            6       1978          1988   \n",
       "1457          70     9042            7            9       1941          2006   \n",
       "1458          20     9717            5            6       1950          1996   \n",
       "1459          20     9937            5            6       1965          1965   \n",
       "\n",
       "      BsmtFinSF1  BsmtFinSF2  BsmtUnfSF  TotalBsmtSF  ...  GarageArea  \\\n",
       "0            706           0        150          856  ...         548   \n",
       "1            978           0        284         1262  ...         460   \n",
       "2            486           0        434          920  ...         608   \n",
       "3            216           0        540          756  ...         642   \n",
       "4            655           0        490         1145  ...         836   \n",
       "...          ...         ...        ...          ...  ...         ...   \n",
       "1455           0           0        953          953  ...         460   \n",
       "1456         790         163        589         1542  ...         500   \n",
       "1457         275           0        877         1152  ...         252   \n",
       "1458          49        1029          0         1078  ...         240   \n",
       "1459         830         290        136         1256  ...         276   \n",
       "\n",
       "      WoodDeckSF  OpenPorchSF  EnclosedPorch  3SsnPorch  ScreenPorch  \\\n",
       "0              0           61              0          0            0   \n",
       "1            298            0              0          0            0   \n",
       "2              0           42              0          0            0   \n",
       "3              0           35            272          0            0   \n",
       "4            192           84              0          0            0   \n",
       "...          ...          ...            ...        ...          ...   \n",
       "1455           0           40              0          0            0   \n",
       "1456         349            0              0          0            0   \n",
       "1457           0           60              0          0            0   \n",
       "1458         366            0            112          0            0   \n",
       "1459         736           68              0          0            0   \n",
       "\n",
       "      PoolArea  MiscVal  MoSold  YrSold  \n",
       "0            0        0       2    2008  \n",
       "1            0        0       5    2007  \n",
       "2            0        0       9    2008  \n",
       "3            0        0       2    2006  \n",
       "4            0        0      12    2008  \n",
       "...        ...      ...     ...     ...  \n",
       "1455         0        0       8    2007  \n",
       "1456         0        0       2    2010  \n",
       "1457         0     2500       5    2010  \n",
       "1458         0        0       4    2010  \n",
       "1459         0        0       6    2008  \n",
       "\n",
       "[1460 rows x 33 columns]"
      ]
     },
     "execution_count": 87,
     "metadata": {},
     "output_type": "execute_result"
    }
   ],
   "source": [
    "new_data2"
   ]
  },
  {
   "cell_type": "code",
   "execution_count": 88,
   "id": "fafc232a",
   "metadata": {},
   "outputs": [],
   "source": [
    "# applying MIR"
   ]
  },
  {
   "cell_type": "code",
   "execution_count": 89,
   "id": "56b5736c",
   "metadata": {},
   "outputs": [],
   "source": [
    "Sample_IV = new_data2.values"
   ]
  },
  {
   "cell_type": "code",
   "execution_count": 90,
   "id": "c2465ca4",
   "metadata": {},
   "outputs": [],
   "source": [
    "from sklearn.feature_selection import mutual_info_regression"
   ]
  },
  {
   "cell_type": "code",
   "execution_count": 91,
   "id": "4c63a599",
   "metadata": {},
   "outputs": [],
   "source": [
    "MIR = mutual_info_regression(Sample_IV,DV)"
   ]
  },
  {
   "cell_type": "code",
   "execution_count": 92,
   "id": "5df2643d",
   "metadata": {},
   "outputs": [
    {
     "data": {
      "text/plain": [
       "array([0.05571027, 0.09795734, 0.53102652, 0.12753393, 0.27813911,\n",
       "       0.20972406, 0.12621761, 0.        , 0.06785281, 0.25969672,\n",
       "       0.24216979, 0.09950649, 0.        , 0.35729744, 0.02705141,\n",
       "       0.02093316, 0.23811913, 0.08037059, 0.07180564, 0.02979567,\n",
       "       0.18252901, 0.16848519, 0.36851485, 0.28308734, 0.056634  ,\n",
       "       0.06237802, 0.02690425, 0.        , 0.01078823, 0.00748279,\n",
       "       0.00296849, 0.        , 0.00463542])"
      ]
     },
     "execution_count": 92,
     "metadata": {},
     "output_type": "execute_result"
    }
   ],
   "source": [
    "MIR"
   ]
  },
  {
   "cell_type": "code",
   "execution_count": 93,
   "id": "6be360b6",
   "metadata": {},
   "outputs": [],
   "source": [
    "MIR_Ser = pd.Series(MIR)"
   ]
  },
  {
   "cell_type": "code",
   "execution_count": 94,
   "id": "0a080356",
   "metadata": {},
   "outputs": [
    {
     "data": {
      "text/plain": [
       "0     0.055710\n",
       "1     0.097957\n",
       "2     0.531027\n",
       "3     0.127534\n",
       "4     0.278139\n",
       "5     0.209724\n",
       "6     0.126218\n",
       "7     0.000000\n",
       "8     0.067853\n",
       "9     0.259697\n",
       "10    0.242170\n",
       "11    0.099506\n",
       "12    0.000000\n",
       "13    0.357297\n",
       "14    0.027051\n",
       "15    0.020933\n",
       "16    0.238119\n",
       "17    0.080371\n",
       "18    0.071806\n",
       "19    0.029796\n",
       "20    0.182529\n",
       "21    0.168485\n",
       "22    0.368515\n",
       "23    0.283087\n",
       "24    0.056634\n",
       "25    0.062378\n",
       "26    0.026904\n",
       "27    0.000000\n",
       "28    0.010788\n",
       "29    0.007483\n",
       "30    0.002968\n",
       "31    0.000000\n",
       "32    0.004635\n",
       "dtype: float64"
      ]
     },
     "execution_count": 94,
     "metadata": {},
     "output_type": "execute_result"
    }
   ],
   "source": [
    "    MIR_Ser"
   ]
  },
  {
   "cell_type": "code",
   "execution_count": 95,
   "id": "f3fb00fe",
   "metadata": {},
   "outputs": [],
   "source": [
    "ivnames = ['MSSubClass', 'LotArea', 'OverallQual', 'OverallCond',\n",
    "       'YearBuilt', 'YearRemodAdd', 'BsmtFinSF1', 'BsmtFinSF2', 'BsmtUnfSF',\n",
    "       'TotalBsmtSF', '1stFlrSF', '2ndFlrSF', 'LowQualFinSF', 'GrLivArea',\n",
    "       'BsmtFullBath', 'BsmtHalfBath', 'FullBath', 'HalfBath', 'BedroomAbvGr',\n",
    "       'KitchenAbvGr', 'TotRmsAbvGrd', 'Fireplaces', 'GarageCars',\n",
    "       'GarageArea', 'WoodDeckSF', 'OpenPorchSF', 'EnclosedPorch', '3SsnPorch',\n",
    "       'ScreenPorch', 'PoolArea', 'MiscVal', 'MoSold', 'YrSold']"
   ]
  },
  {
   "cell_type": "code",
   "execution_count": 96,
   "id": "48d6b9e3",
   "metadata": {},
   "outputs": [],
   "source": [
    "MIR_Ser.index = ivnames"
   ]
  },
  {
   "cell_type": "code",
   "execution_count": 97,
   "id": "ba11c670",
   "metadata": {},
   "outputs": [
    {
     "data": {
      "text/plain": [
       "MSSubClass       0.055710\n",
       "LotArea          0.097957\n",
       "OverallQual      0.531027\n",
       "OverallCond      0.127534\n",
       "YearBuilt        0.278139\n",
       "YearRemodAdd     0.209724\n",
       "BsmtFinSF1       0.126218\n",
       "BsmtFinSF2       0.000000\n",
       "BsmtUnfSF        0.067853\n",
       "TotalBsmtSF      0.259697\n",
       "1stFlrSF         0.242170\n",
       "2ndFlrSF         0.099506\n",
       "LowQualFinSF     0.000000\n",
       "GrLivArea        0.357297\n",
       "BsmtFullBath     0.027051\n",
       "BsmtHalfBath     0.020933\n",
       "FullBath         0.238119\n",
       "HalfBath         0.080371\n",
       "BedroomAbvGr     0.071806\n",
       "KitchenAbvGr     0.029796\n",
       "TotRmsAbvGrd     0.182529\n",
       "Fireplaces       0.168485\n",
       "GarageCars       0.368515\n",
       "GarageArea       0.283087\n",
       "WoodDeckSF       0.056634\n",
       "OpenPorchSF      0.062378\n",
       "EnclosedPorch    0.026904\n",
       "3SsnPorch        0.000000\n",
       "ScreenPorch      0.010788\n",
       "PoolArea         0.007483\n",
       "MiscVal          0.002968\n",
       "MoSold           0.000000\n",
       "YrSold           0.004635\n",
       "dtype: float64"
      ]
     },
     "execution_count": 97,
     "metadata": {},
     "output_type": "execute_result"
    }
   ],
   "source": [
    "MIR_Ser"
   ]
  },
  {
   "cell_type": "code",
   "execution_count": 98,
   "id": "3c9d2e70",
   "metadata": {},
   "outputs": [],
   "source": [
    "remove_data1 = MIR_Ser.sort_values(ascending=False)"
   ]
  },
  {
   "cell_type": "code",
   "execution_count": 99,
   "id": "a84fa770",
   "metadata": {},
   "outputs": [
    {
     "data": {
      "text/plain": [
       "OverallQual      0.531027\n",
       "GarageCars       0.368515\n",
       "GrLivArea        0.357297\n",
       "GarageArea       0.283087\n",
       "YearBuilt        0.278139\n",
       "TotalBsmtSF      0.259697\n",
       "1stFlrSF         0.242170\n",
       "FullBath         0.238119\n",
       "YearRemodAdd     0.209724\n",
       "TotRmsAbvGrd     0.182529\n",
       "Fireplaces       0.168485\n",
       "OverallCond      0.127534\n",
       "BsmtFinSF1       0.126218\n",
       "2ndFlrSF         0.099506\n",
       "LotArea          0.097957\n",
       "HalfBath         0.080371\n",
       "BedroomAbvGr     0.071806\n",
       "BsmtUnfSF        0.067853\n",
       "OpenPorchSF      0.062378\n",
       "WoodDeckSF       0.056634\n",
       "MSSubClass       0.055710\n",
       "KitchenAbvGr     0.029796\n",
       "BsmtFullBath     0.027051\n",
       "EnclosedPorch    0.026904\n",
       "BsmtHalfBath     0.020933\n",
       "ScreenPorch      0.010788\n",
       "PoolArea         0.007483\n",
       "YrSold           0.004635\n",
       "MiscVal          0.002968\n",
       "LowQualFinSF     0.000000\n",
       "BsmtFinSF2       0.000000\n",
       "3SsnPorch        0.000000\n",
       "MoSold           0.000000\n",
       "dtype: float64"
      ]
     },
     "execution_count": 99,
     "metadata": {},
     "output_type": "execute_result"
    }
   ],
   "source": [
    "remove_data1"
   ]
  },
  {
   "cell_type": "code",
   "execution_count": 100,
   "id": "17ca0e6e",
   "metadata": {},
   "outputs": [],
   "source": [
    "top_5 = MIR_Ser.nlargest(5)"
   ]
  },
  {
   "cell_type": "code",
   "execution_count": 101,
   "id": "eaba4bc0",
   "metadata": {},
   "outputs": [
    {
     "data": {
      "text/plain": [
       "OverallQual    0.531027\n",
       "GarageCars     0.368515\n",
       "GrLivArea      0.357297\n",
       "GarageArea     0.283087\n",
       "YearBuilt      0.278139\n",
       "dtype: float64"
      ]
     },
     "execution_count": 101,
     "metadata": {},
     "output_type": "execute_result"
    }
   ],
   "source": [
    "top_5"
   ]
  },
  {
   "cell_type": "code",
   "execution_count": 102,
   "id": "6cd47578",
   "metadata": {},
   "outputs": [],
   "source": [
    "first_col = top_5.index"
   ]
  },
  {
   "cell_type": "code",
   "execution_count": 103,
   "id": "7af341b5",
   "metadata": {},
   "outputs": [
    {
     "data": {
      "text/plain": [
       "pandas.core.indexes.base.Index"
      ]
     },
     "execution_count": 103,
     "metadata": {},
     "output_type": "execute_result"
    }
   ],
   "source": [
    "type(first_col)"
   ]
  },
  {
   "cell_type": "code",
   "execution_count": 104,
   "id": "3b64f7ed",
   "metadata": {},
   "outputs": [],
   "source": [
    "first_col_list = first_col.tolist()"
   ]
  },
  {
   "cell_type": "code",
   "execution_count": 105,
   "id": "66be0ac2",
   "metadata": {},
   "outputs": [
    {
     "data": {
      "text/plain": [
       "['OverallQual', 'GarageCars', 'GrLivArea', 'GarageArea', 'YearBuilt']"
      ]
     },
     "execution_count": 105,
     "metadata": {},
     "output_type": "execute_result"
    }
   ],
   "source": [
    "first_col_list"
   ]
  },
  {
   "cell_type": "code",
   "execution_count": 106,
   "id": "0c96a6cb",
   "metadata": {},
   "outputs": [],
   "source": [
    "IV = df[['OverallQual', 'GrLivArea', 'GarageCars', 'GarageArea', 'YearBuilt']]"
   ]
  },
  {
   "cell_type": "code",
   "execution_count": 107,
   "id": "fb12f6ee",
   "metadata": {},
   "outputs": [
    {
     "data": {
      "text/html": [
       "<div>\n",
       "<style scoped>\n",
       "    .dataframe tbody tr th:only-of-type {\n",
       "        vertical-align: middle;\n",
       "    }\n",
       "\n",
       "    .dataframe tbody tr th {\n",
       "        vertical-align: top;\n",
       "    }\n",
       "\n",
       "    .dataframe thead th {\n",
       "        text-align: right;\n",
       "    }\n",
       "</style>\n",
       "<table border=\"1\" class=\"dataframe\">\n",
       "  <thead>\n",
       "    <tr style=\"text-align: right;\">\n",
       "      <th></th>\n",
       "      <th>OverallQual</th>\n",
       "      <th>GrLivArea</th>\n",
       "      <th>GarageCars</th>\n",
       "      <th>GarageArea</th>\n",
       "      <th>YearBuilt</th>\n",
       "    </tr>\n",
       "  </thead>\n",
       "  <tbody>\n",
       "    <tr>\n",
       "      <th>0</th>\n",
       "      <td>7</td>\n",
       "      <td>1710</td>\n",
       "      <td>2</td>\n",
       "      <td>548</td>\n",
       "      <td>2003</td>\n",
       "    </tr>\n",
       "    <tr>\n",
       "      <th>1</th>\n",
       "      <td>6</td>\n",
       "      <td>1262</td>\n",
       "      <td>2</td>\n",
       "      <td>460</td>\n",
       "      <td>1976</td>\n",
       "    </tr>\n",
       "    <tr>\n",
       "      <th>2</th>\n",
       "      <td>7</td>\n",
       "      <td>1786</td>\n",
       "      <td>2</td>\n",
       "      <td>608</td>\n",
       "      <td>2001</td>\n",
       "    </tr>\n",
       "    <tr>\n",
       "      <th>3</th>\n",
       "      <td>7</td>\n",
       "      <td>1717</td>\n",
       "      <td>3</td>\n",
       "      <td>642</td>\n",
       "      <td>1915</td>\n",
       "    </tr>\n",
       "    <tr>\n",
       "      <th>4</th>\n",
       "      <td>8</td>\n",
       "      <td>2198</td>\n",
       "      <td>3</td>\n",
       "      <td>836</td>\n",
       "      <td>2000</td>\n",
       "    </tr>\n",
       "    <tr>\n",
       "      <th>...</th>\n",
       "      <td>...</td>\n",
       "      <td>...</td>\n",
       "      <td>...</td>\n",
       "      <td>...</td>\n",
       "      <td>...</td>\n",
       "    </tr>\n",
       "    <tr>\n",
       "      <th>1455</th>\n",
       "      <td>6</td>\n",
       "      <td>1647</td>\n",
       "      <td>2</td>\n",
       "      <td>460</td>\n",
       "      <td>1999</td>\n",
       "    </tr>\n",
       "    <tr>\n",
       "      <th>1456</th>\n",
       "      <td>6</td>\n",
       "      <td>2073</td>\n",
       "      <td>2</td>\n",
       "      <td>500</td>\n",
       "      <td>1978</td>\n",
       "    </tr>\n",
       "    <tr>\n",
       "      <th>1457</th>\n",
       "      <td>7</td>\n",
       "      <td>2340</td>\n",
       "      <td>1</td>\n",
       "      <td>252</td>\n",
       "      <td>1941</td>\n",
       "    </tr>\n",
       "    <tr>\n",
       "      <th>1458</th>\n",
       "      <td>5</td>\n",
       "      <td>1078</td>\n",
       "      <td>1</td>\n",
       "      <td>240</td>\n",
       "      <td>1950</td>\n",
       "    </tr>\n",
       "    <tr>\n",
       "      <th>1459</th>\n",
       "      <td>5</td>\n",
       "      <td>1256</td>\n",
       "      <td>1</td>\n",
       "      <td>276</td>\n",
       "      <td>1965</td>\n",
       "    </tr>\n",
       "  </tbody>\n",
       "</table>\n",
       "<p>1460 rows × 5 columns</p>\n",
       "</div>"
      ],
      "text/plain": [
       "      OverallQual  GrLivArea  GarageCars  GarageArea  YearBuilt\n",
       "0               7       1710           2         548       2003\n",
       "1               6       1262           2         460       1976\n",
       "2               7       1786           2         608       2001\n",
       "3               7       1717           3         642       1915\n",
       "4               8       2198           3         836       2000\n",
       "...           ...        ...         ...         ...        ...\n",
       "1455            6       1647           2         460       1999\n",
       "1456            6       2073           2         500       1978\n",
       "1457            7       2340           1         252       1941\n",
       "1458            5       1078           1         240       1950\n",
       "1459            5       1256           1         276       1965\n",
       "\n",
       "[1460 rows x 5 columns]"
      ]
     },
     "execution_count": 107,
     "metadata": {},
     "output_type": "execute_result"
    }
   ],
   "source": [
    "IV"
   ]
  },
  {
   "cell_type": "code",
   "execution_count": 108,
   "id": "3e779282",
   "metadata": {},
   "outputs": [],
   "source": [
    "# 1st pair  OverallQual and SalePrice"
   ]
  },
  {
   "cell_type": "code",
   "execution_count": 109,
   "id": "e6507ffd",
   "metadata": {},
   "outputs": [
    {
     "name": "stdout",
     "output_type": "stream",
     "text": [
      "Coefficients:  [45042.34669305]\n",
      "Intercept:  -93948.65538918899\n",
      "R2-score:68.72 %\n"
     ]
    }
   ],
   "source": [
    "IV1 = IV[[\"OverallQual\"]].values \n",
    "\n",
    "from sklearn.model_selection import train_test_split\n",
    "X_train1, X_test1, y_train1, y_test1 = train_test_split(IV1, DV, test_size= 0.20, random_state= 50)\n",
    "\n",
    "from sklearn import linear_model\n",
    "regr1= linear_model.LinearRegression()\n",
    "regr1.fit(X_train1, y_train1)\n",
    "\n",
    "print ('Coefficients: ', regr1.coef_)\n",
    "print ('Intercept: ',regr1.intercept_)\n",
    "\n",
    "predicted_y1 = regr1.predict(X_test1) \n",
    "\n",
    "from sklearn.metrics import r2_score \n",
    "\n",
    "print(f\"R2-score:{r2_score(y_test1 , predicted_y1)*100:.2f} %\")\n",
    "\n",
    "OverallQual_as_iv = float(f\"{r2_score(y_test1 , predicted_y1)*100:.2f}\")"
   ]
  },
  {
   "cell_type": "code",
   "execution_count": 110,
   "id": "199978ce",
   "metadata": {},
   "outputs": [
    {
     "data": {
      "text/plain": [
       "Text(0, 0.5, 'Sale price')"
      ]
     },
     "execution_count": 110,
     "metadata": {},
     "output_type": "execute_result"
    },
    {
     "data": {
      "image/png": "[encoded data removed]",
      "text/plain": [
       "<Figure size 432x288 with 1 Axes>"
      ]
     },
     "metadata": {
      "needs_background": "light"
     },
     "output_type": "display_data"
    }
   ],
   "source": [
    "plt.scatter(X_train1,y_train1,  color='Green')\n",
    "plt.plot(X_train1, regr1.coef_[0]*X_train1 + regr1.intercept_, 'red') \n",
    "plt.xlabel(\"OverallQual\")\n",
    "plt.ylabel(\"Sale price\")"
   ]
  },
  {
   "cell_type": "code",
   "execution_count": 111,
   "id": "da557351",
   "metadata": {},
   "outputs": [],
   "source": [
    "#2nd pair GrLivArea and SalePrice¶"
   ]
  },
  {
   "cell_type": "code",
   "execution_count": 112,
   "id": "622c21ad",
   "metadata": {},
   "outputs": [
    {
     "name": "stdout",
     "output_type": "stream",
     "text": [
      "Coefficients:  [103.8024331]\n",
      "Intercept:  23615.355044686585\n",
      "R2-score:55.21 %\n"
     ]
    }
   ],
   "source": [
    "IV2 = IV[[\"GrLivArea\"]].values \n",
    "\n",
    "from sklearn.model_selection import train_test_split\n",
    "X_train2, X_test2, y_train2, y_test2 = train_test_split(IV2, DV, test_size= 0.20, random_state= 50)\n",
    "\n",
    "from sklearn import linear_model\n",
    "regr2 = linear_model.LinearRegression()\n",
    "regr2.fit(X_train2, y_train2)\n",
    "\n",
    "print ('Coefficients: ', regr2.coef_)\n",
    "print ('Intercept: ',regr2.intercept_)\n",
    "\n",
    "predicted_y2 = regr2.predict(X_test2) \n",
    "\n",
    "from sklearn.metrics import r2_score \n",
    "\n",
    "print(f\"R2-score:{r2_score(y_test2 , predicted_y2)*100:.2f} %\")\n",
    "\n",
    "GrLivArea_as_iv = float(f\"{r2_score(y_test2 , predicted_y2)*100:.2f} \")\n"
   ]
  },
  {
   "cell_type": "code",
   "execution_count": 113,
   "id": "5b2bc990",
   "metadata": {},
   "outputs": [
    {
     "data": {
      "text/plain": [
       "Text(0, 0.5, 'Sale price')"
      ]
     },
     "execution_count": 113,
     "metadata": {},
     "output_type": "execute_result"
    },
    {
     "data": {
      "image/png": "[encoded data removed]",
      "text/plain": [
       "<Figure size 432x288 with 1 Axes>"
      ]
     },
     "metadata": {
      "needs_background": "light"
     },
     "output_type": "display_data"
    }
   ],
   "source": [
    "plt.scatter(X_train2,y_train2,  color='Green')\n",
    "plt.plot(X_train2, regr2.coef_[0]*X_train2 + regr2.intercept_, 'red') \n",
    "plt.xlabel(\"GrLivArea\")\n",
    "plt.ylabel(\"Sale price\")"
   ]
  },
  {
   "cell_type": "code",
   "execution_count": 114,
   "id": "6146b5da",
   "metadata": {},
   "outputs": [
    {
     "name": "stdout",
     "output_type": "stream",
     "text": [
      "Coefficients:  [67401.35858239]\n",
      "Intercept:  61460.61456352682\n",
      "R2-score:44.01 %\n"
     ]
    }
   ],
   "source": [
    "IV3 = IV[[\"GarageCars\"]].values \n",
    "\n",
    "from sklearn.model_selection import train_test_split\n",
    "X_train3, X_test3, y_train3, y_test3 = train_test_split(IV3, DV, test_size= 0.20, random_state= 50)\n",
    "\n",
    "from sklearn import linear_model\n",
    "regr3 = linear_model.LinearRegression()\n",
    "regr3.fit(X_train3, y_train3)\n",
    "\n",
    "print ('Coefficients: ', regr3.coef_)\n",
    "print ('Intercept: ',regr3.intercept_)\n",
    "\n",
    "predicted_y3 = regr3.predict(X_test3) \n",
    "\n",
    "from sklearn.metrics import r2_score \n",
    "\n",
    "print(f\"R2-score:{r2_score(y_test3 , predicted_y3)*100:.2f} %\")\n",
    "\n",
    "GarageCars_as_iv = float(f\"{r2_score(y_test3 , predicted_y3)*100:.2f}\")\n"
   ]
  },
  {
   "cell_type": "code",
   "execution_count": 115,
   "id": "f9983758",
   "metadata": {},
   "outputs": [
    {
     "data": {
      "text/plain": [
       "Text(0, 0.5, 'Sale price')"
      ]
     },
     "execution_count": 115,
     "metadata": {},
     "output_type": "execute_result"
    },
    {
     "data": {
      "image/png": "[encoded data removed]",
      "text/plain": [
       "<Figure size 432x288 with 1 Axes>"
      ]
     },
     "metadata": {
      "needs_background": "light"
     },
     "output_type": "display_data"
    }
   ],
   "source": [
    "plt.scatter(X_train3,y_train3,  color='Green')\n",
    "plt.plot(X_train3, regr3.coef_[0]*X_train3 + regr3.intercept_, 'red') \n",
    "plt.xlabel(\"GarageCars\")\n",
    "plt.ylabel(\"Sale price\")"
   ]
  },
  {
   "cell_type": "code",
   "execution_count": 116,
   "id": "bbe31648",
   "metadata": {},
   "outputs": [],
   "source": [
    "#4th pair GarageArea and SalePrice"
   ]
  },
  {
   "cell_type": "code",
   "execution_count": 117,
   "id": "43159c26",
   "metadata": {},
   "outputs": [
    {
     "name": "stdout",
     "output_type": "stream",
     "text": [
      "Coefficients:  [230.73379419]\n",
      "Intercept:  71852.06824439224\n",
      "R2-score:39.82 %\n"
     ]
    }
   ],
   "source": [
    "IV4 = IV[[\"GarageArea\"]].values \n",
    "\n",
    "from sklearn.model_selection import train_test_split\n",
    "X_train4, X_test4, y_train4, y_test4 = train_test_split(IV4, DV, test_size= 0.20, random_state= 50)\n",
    "\n",
    "from sklearn import linear_model\n",
    "regr4 = linear_model.LinearRegression()\n",
    "regr4.fit(X_train4, y_train4)\n",
    "\n",
    "print ('Coefficients: ', regr4.coef_)\n",
    "print ('Intercept: ',regr4.intercept_)\n",
    "\n",
    "predicted_y4 = regr4.predict(X_test4) \n",
    "\n",
    "from sklearn.metrics import r2_score \n",
    "\n",
    "print(f\"R2-score:{r2_score(y_test4 , predicted_y4)*100:.2f} %\")\n",
    "\n",
    "GarageArea_as_iv = float(f\"{r2_score(y_test4, predicted_y4)*100:.2f} \")\n"
   ]
  },
  {
   "cell_type": "code",
   "execution_count": 118,
   "id": "971b4fae",
   "metadata": {},
   "outputs": [
    {
     "data": {
      "text/plain": [
       "Text(0, 0.5, 'Sale price')"
      ]
     },
     "execution_count": 118,
     "metadata": {},
     "output_type": "execute_result"
    },
    {
     "data": {
      "image/png": "[encoded data removed]",
      "text/plain": [
       "<Figure size 432x288 with 1 Axes>"
      ]
     },
     "metadata": {
      "needs_background": "light"
     },
     "output_type": "display_data"
    }
   ],
   "source": [
    "plt.scatter(X_train4,y_train4,  color='Green')\n",
    "plt.plot(X_train4, regr4.coef_[0]*X_train4 + regr4.intercept_, 'red') \n",
    "plt.xlabel(\"GarageArea\")\n",
    "plt.ylabel(\"Sale price\")"
   ]
  },
  {
   "cell_type": "code",
   "execution_count": 119,
   "id": "46fd31de",
   "metadata": {},
   "outputs": [],
   "source": [
    "#5th pair YearBuilt and SalePrice"
   ]
  },
  {
   "cell_type": "code",
   "execution_count": 120,
   "id": "8fc5f0a0",
   "metadata": {},
   "outputs": [
    {
     "name": "stdout",
     "output_type": "stream",
     "text": [
      "Coefficients:  [1365.51372819]\n",
      "Intercept:  -2510960.8837798163\n",
      "R2-score:26.58 %\n"
     ]
    }
   ],
   "source": [
    "IV5 = IV[[\"YearBuilt\"]].values \n",
    "\n",
    "from sklearn.model_selection import train_test_split\n",
    "X_train5, X_test5, y_train5, y_test5 = train_test_split(IV5, DV, test_size= 0.20, random_state= 50)\n",
    "\n",
    "from sklearn import linear_model\n",
    "regr5 = linear_model.LinearRegression()\n",
    "regr5.fit(X_train5, y_train5)\n",
    "\n",
    "print ('Coefficients: ', regr5.coef_)\n",
    "print ('Intercept: ',regr5.intercept_)\n",
    "\n",
    "predicted_y5 = regr5.predict(X_test5) \n",
    "\n",
    "from sklearn.metrics import r2_score \n",
    "\n",
    "print(f\"R2-score:{r2_score(y_test5 , predicted_y5)*100:.2f} %\")\n",
    "\n",
    "YearBuilt_as_iv = float(f\"{r2_score(y_test5 , predicted_y5)*100:.2f}\")\n"
   ]
  },
  {
   "cell_type": "code",
   "execution_count": 121,
   "id": "411f3000",
   "metadata": {},
   "outputs": [
    {
     "data": {
      "text/plain": [
       "Text(0, 0.5, 'Sale price')"
      ]
     },
     "execution_count": 121,
     "metadata": {},
     "output_type": "execute_result"
    },
    {
     "data": {
      "image/png": "[encoded data removed]",
      "text/plain": [
       "<Figure size 432x288 with 1 Axes>"
      ]
     },
     "metadata": {
      "needs_background": "light"
     },
     "output_type": "display_data"
    }
   ],
   "source": [
    "plt.scatter(X_train5,y_train5,  color='Green')\n",
    "plt.plot(X_train5, regr5.coef_[0]*X_train5 + regr5.intercept_, 'red') \n",
    "plt.xlabel(\"YearBuilt\")\n",
    "plt.ylabel(\"Sale price\")"
   ]
  },
  {
   "cell_type": "code",
   "execution_count": 122,
   "id": "5f6055de",
   "metadata": {},
   "outputs": [
    {
     "name": "stdout",
     "output_type": "stream",
     "text": [
      "OverallQual_as_iv= 68.72\n",
      "GrLivArea_as_iv 55.21\n",
      "GarageCars_as_iv= 44.01\n",
      "GarageArea_as_iv= 39.82\n",
      "YearBuilt= 26.58\n"
     ]
    }
   ],
   "source": [
    "print(f\"OverallQual_as_iv= {OverallQual_as_iv}\\nGrLivArea_as_iv {GrLivArea_as_iv}\\nGarageCars_as_iv= {GarageCars_as_iv}\\nGarageArea_as_iv= {GarageArea_as_iv}\\nYearBuilt= {YearBuilt_as_iv}\")\n"
   ]
  },
  {
   "cell_type": "code",
   "execution_count": 128,
   "id": "0ddfb563",
   "metadata": {},
   "outputs": [],
   "source": [
    "top5_acc = [OverallQual_as_iv, GrLivArea_as_iv, GarageCars_as_iv, GarageArea_as_iv, YearBuilt_as_iv ]\n"
   ]
  },
  {
   "cell_type": "code",
   "execution_count": 129,
   "id": "70dcb356",
   "metadata": {},
   "outputs": [],
   "source": [
    "top5_cl = [ 'OverallQual','GrLivArea', 'GarageCars', 'GarageArea', 'YearBuilt']"
   ]
  },
  {
   "cell_type": "code",
   "execution_count": 130,
   "id": "86c2e9da",
   "metadata": {},
   "outputs": [
    {
     "data": {
      "image/png": "[encoded data removed]",
      "text/plain": [
       "<Figure size 432x288 with 1 Axes>"
      ]
     },
     "metadata": {},
     "output_type": "display_data"
    }
   ],
   "source": [
    "# creating the bar plot\n",
    "\n",
    "plt.style.use(\"ggplot\")\n",
    "\n",
    "plt.bar(top5_cl,top5_acc, color =['red', 'purple', 'green', 'blue', 'Yellow'] , alpha = 0.7,  width = 0.4)\n",
    "plt.xlabel(\"Independent Veriables\")\n",
    "plt.ylabel(\"R2-Score\")\n",
    "plt.title(\"Accuracy of Independent Veriables\")\n",
    "plt.grid(axis = 'y', color = 'skyblue', linestyle = '--', linewidth = 0.4)\n",
    "plt.ylim(0, 100)  \n",
    "\n",
    "plt.show()\n"
   ]
  },
  {
   "cell_type": "code",
   "execution_count": null,
   "id": "57ccae67",
   "metadata": {},
   "outputs": [],
   "source": []
  }
 ],
 "metadata": {
  "kernelspec": {
   "display_name": "Python 3 (ipykernel)",
   "language": "python",
   "name": "python3"
  },
  "language_info": {
   "codemirror_mode": {
    "name": "ipython",
    "version": 3
   },
   "file_extension": ".py",
   "mimetype": "text/x-python",
   "name": "python",
   "nbconvert_exporter": "python",
   "pygments_lexer": "ipython3",
   "version": "3.9.12"
  }
 },
 "nbformat": 4,
 "nbformat_minor": 5
}
